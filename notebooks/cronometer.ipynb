{
 "cells": [
  {
   "cell_type": "markdown",
   "metadata": {
    "id": "HPbhfm8BemdN"
   },
   "source": [
    "# Cronometer: Guide to data extraction and analysis"
   ]
  },
  {
   "cell_type": "markdown",
   "metadata": {
    "id": "NXqYLOxNeoX_"
   },
   "source": [
    "<img src='https://imgur.com/i6lFwtY.png' height=\"500\"> "
   ]
  },
  {
   "cell_type": "markdown",
   "metadata": {
    "id": "-0QR03kueqpK"
   },
   "source": [
    "A picture of the Cronometer Mobile Application\n",
    "\n"
   ]
  },
  {
   "cell_type": "markdown",
   "metadata": {
    "id": "2ZZHXApgesVP"
   },
   "source": [
    "Do you know that DIET stands for Did I Eat That? <br> <br>\n",
    "Jokes aside, in this notebook we will be doing just that. We will connect to the Cronometer API to analyze the participants nutritional and exercise habits."
   ]
  },
  {
   "cell_type": "markdown",
   "metadata": {
    "id": "tBNVIh27et3L"
   },
   "source": [
    "Cronometer is often regarded as the “[best nutrition app for Android and iOS](https://www.makeuseof.com/cronometer-health-app-android-ios/).” It lets you track your meals, count calories, identify gaps in your diet, and check your health metrics. It is also compatible with popular fitness devices like Fitbit, Strava, Withings, Garmin, Polar, Qardio and Oura. <br>\n",
    "\n",
    "Cronometer follows a fremium model offering a digital service accessible through its mobile applications (iOS and Android). Users also have an option to upgrade and unlock more advanced features like Custom Goals, Training Plans, Race Analysis, etc for a monthly fee of $8.99. <br>\n",
    "\n",
    "We've been using the cronometer application for the past few weeks and we will show you how to extract its data, visualize the participants data and compute correlations between multiple metrics. Cronometer does not have a public API, so we would reversed engineered the cornometer api within wearipedia in order to extract servings, daily-nutrition, exercises, notes, and biometrics. <br>\n",
    "\n"
   ]
  },
  {
   "cell_type": "markdown",
   "metadata": {
    "id": "bnb9q2Qiev_f"
   },
   "source": [
    "We will be able to extract the following parameters:\n",
    "\n",
    "Parameter Name  | Sampling Frequency \n",
    "-------------------|-----------------\n",
    "<b>Body Measurements</b> |  Per Entry \n",
    "Blood Pressure |   Per Entry / Day \n",
    "<b>Heart Rate</b> |  Per Entry / Day\n",
    "Oxygen Saturation |  Per Entry / Day \n",
    "VO2 Max |  Per Entry / Day\n",
    "Pulse Wave Velocity |  Per Entry / Day\n",
    "Labs/ Test Results |  Per Entry / Day\n",
    "Mood |  Per Entry / Day\n",
    "Sleep |  Per Entry / Day\n",
    "<b>Food Nutrition Breakdown</b> |  Per Serving\n",
    "<b>Exercise Minutes</b>  |  Per Exercise Entry\n",
    "<b>Exercise Calories Burned</b>  |  Per Exercise Entry\n",
    "<b>Daily Nutrition Breakdown</b> |  Per Day"
   ]
  },
  {
   "cell_type": "markdown",
   "metadata": {
    "id": "tAzDNzYjeyY4"
   },
   "source": [
    "In this guide, we sequentially cover the following **nine** topics to extract data from Cronometer servers:\n",
    "\n",
    "1. **Set up**<br>\n",
    "2. **Authentication/Authorization**<br>\n",
    "   - Requires only username and password, no OAuth.<br>\n",
    "3. **Data extraction**<br>\n",
    "  - We get data via wearipedia in a couple lines of code<br>\n",
    "4. **Data Exporting**\n",
    "    - We export all of this data to file formats compatible by R, Excel, and MatLab.\n",
    "5. **Adherence**\n",
    "    - We simulate non-adherence by dynamically removing datapoints from our simulated data.\n",
    "6. **Visualization**\n",
    "    - We create a simple plot to visualize our data.\n",
    "7. **Advanced visualization**\n",
    "    - 7.1 Plotting the participants weight! <br>\n",
    "    - 7.2 Plotting participants Workout Minutes! <br>\n",
    "    - 7.3 Calorie Consumption Breakdown! <br>\n",
    "8. **Data Analysis** <br>\n",
    "  - 8.1  Analyzing correlation between Protein Content and Vitamin B content in food items! <br>\n",
    "9. **Outlier Detection** <br>\n",
    "  - 9.1 Highlighting Outliers!\n",
    "\n",
    "Disclaimer: this notebook is purely for educational purposes. All of the data currently stored in this notebook is purely *synthetic*, meaning randomly generated according to rules we created. Despite this, the end-to-end data extraction pipeline has been tested on our own data, meaning that if you enter your own email and password on your own Colab instance, you can visualize your own *real* data. That being said, we were unable to thoroughly test the timezone functionality, though, since we only have one account, so beware."
   ]
  },
  {
   "cell_type": "markdown",
   "metadata": {
    "id": "NilGl0FGe0gr"
   },
   "source": [
    "# 1. Setup\n",
    "\n",
    "## Participant Setup\n",
    "\n",
    "Dear Participant,\n",
    "\n",
    "Once you download the cronometer app, please set it up by following these resources:\n",
    "- Written guide: https://support.cronometer.com/hc/en-us/articles/360021677792-Mobile-Quick-Start-Guide\n",
    "- Video guide: https://www.youtube.com/watch?v=XyeXp_wo0to&ab_channel=Cronometer\n",
    "\n",
    "Make sure that your phone is logged to the cronometer app using the Cronometer login credentials (email and password) given to you by the data receiver.\n",
    "\n",
    "Best,\n",
    "\n",
    "Wearipedia\n",
    "\n",
    "## Data Receiver Setup\n",
    "\n",
    "Please follow the below steps:\n",
    "\n",
    "1. Create an email address for the participant, for example `foo@email.com`.\n",
    "2. Create a Cronometer account with the email `foo@email.com` and some random password.\n",
    "3. Keep `foo@email.com` and password stored somewhere safe.\n",
    "4. Request the participant to download the app and instruct them to follow the participant setup letter above.\n",
    "5. Install the `wearipedia` Python package to easily extract data from this app via the Cronometer API.\n"
   ]
  },
  {
   "cell_type": "code",
   "execution_count": 1,
   "metadata": {
    "colab": {
     "base_uri": "https://localhost:8080/"
    },
    "id": "JTwt3g0SeiiN",
    "outputId": "65f6683e-9dcb-40f8-e4e2-e9afa6bdf353"
   },
   "outputs": [
    {
     "name": "stdout",
     "output_type": "stream",
     "text": [
      "Requirement already satisfied: openpyxl in /Users/saarth/opt/anaconda3/lib/python3.9/site-packages (3.0.10)\n",
      "Requirement already satisfied: et_xmlfile in /Users/saarth/opt/anaconda3/lib/python3.9/site-packages (from openpyxl) (1.1.0)\n",
      "Found existing installation: seaborn 0.11.1\n",
      "Uninstalling seaborn-0.11.1:\n",
      "  Successfully uninstalled seaborn-0.11.1\n",
      "Collecting seaborn==0.11.1\n",
      "  Using cached seaborn-0.11.1-py3-none-any.whl (285 kB)\n",
      "Requirement already satisfied: pandas>=0.23 in /Users/saarth/opt/anaconda3/lib/python3.9/site-packages (from seaborn==0.11.1) (1.5.2)\n",
      "Requirement already satisfied: scipy>=1.0 in /Users/saarth/opt/anaconda3/lib/python3.9/site-packages (from seaborn==0.11.1) (1.9.3)\n",
      "Requirement already satisfied: numpy>=1.15 in /Users/saarth/opt/anaconda3/lib/python3.9/site-packages (from seaborn==0.11.1) (1.21.2)\n",
      "Requirement already satisfied: matplotlib>=2.2 in /Users/saarth/opt/anaconda3/lib/python3.9/site-packages (from seaborn==0.11.1) (3.6.2)\n",
      "Requirement already satisfied: cycler>=0.10 in /Users/saarth/opt/anaconda3/lib/python3.9/site-packages (from matplotlib>=2.2->seaborn==0.11.1) (0.11.0)\n",
      "Requirement already satisfied: packaging>=20.0 in /Users/saarth/opt/anaconda3/lib/python3.9/site-packages (from matplotlib>=2.2->seaborn==0.11.1) (21.3)\n",
      "Requirement already satisfied: fonttools>=4.22.0 in /Users/saarth/opt/anaconda3/lib/python3.9/site-packages (from matplotlib>=2.2->seaborn==0.11.1) (4.25.0)\n",
      "Requirement already satisfied: pillow>=6.2.0 in /Users/saarth/opt/anaconda3/lib/python3.9/site-packages (from matplotlib>=2.2->seaborn==0.11.1) (8.3.2)\n",
      "Requirement already satisfied: contourpy>=1.0.1 in /Users/saarth/opt/anaconda3/lib/python3.9/site-packages (from matplotlib>=2.2->seaborn==0.11.1) (1.0.6)\n",
      "Requirement already satisfied: python-dateutil>=2.7 in /Users/saarth/opt/anaconda3/lib/python3.9/site-packages (from matplotlib>=2.2->seaborn==0.11.1) (2.8.2)\n",
      "Requirement already satisfied: kiwisolver>=1.0.1 in /Users/saarth/opt/anaconda3/lib/python3.9/site-packages (from matplotlib>=2.2->seaborn==0.11.1) (1.4.2)\n",
      "Requirement already satisfied: pyparsing>=2.2.1 in /Users/saarth/opt/anaconda3/lib/python3.9/site-packages (from matplotlib>=2.2->seaborn==0.11.1) (3.0.9)\n",
      "Requirement already satisfied: pytz>=2020.1 in /Users/saarth/opt/anaconda3/lib/python3.9/site-packages (from pandas>=0.23->seaborn==0.11.1) (2022.1)\n",
      "Requirement already satisfied: six>=1.5 in /Users/saarth/opt/anaconda3/lib/python3.9/site-packages (from python-dateutil>=2.7->matplotlib>=2.2->seaborn==0.11.1) (1.16.0)\n",
      "Installing collected packages: seaborn\n",
      "Successfully installed seaborn-0.11.1\n"
     ]
    }
   ],
   "source": [
    "# !pip install wearipedia\n",
    "!pip install openpyxl\n",
    "!pip uninstall -y seaborn\n",
    "!pip install seaborn==0.11.1"
   ]
  },
  {
   "cell_type": "code",
   "execution_count": 3,
   "metadata": {},
   "outputs": [],
   "source": [
    "import os\n",
    "import pandas as pd\n",
    "import wearipedia\n",
    "import matplotlib.pyplot as plt\n",
    "import datetime\n",
    "from scipy import stats\n",
    "from sklearn.covariance import EllipticEnvelope\n",
    "import copy\n",
    "import seaborn as sns\n",
    "from matplotlib import font_manager as fm\n",
    "from matplotlib import lines as mlines\n",
    "from scipy.ndimage import gaussian_filter\n",
    "import matplotlib.dates as mdates\n",
    "import matplotlib.pyplot as plt\n",
    "from datetime import datetime, timedelta\n",
    "import numpy as np\n",
    "import json\n",
    "\n"
   ]
  },
  {
   "cell_type": "markdown",
   "metadata": {
    "id": "CCzIx1k1e6Qh"
   },
   "source": [
    "# 2. Authentication/Authorization\n",
    "\n",
    "To obtain access to data, authorization is required. All you'll need to do here is just put in your email and password for your Cronometer account. We'll use this username and password to extract the data in the sections below."
   ]
  },
  {
   "cell_type": "code",
   "execution_count": 34,
   "metadata": {
    "id": "INRAosqYe2yZ"
   },
   "outputs": [],
   "source": [
    "#@title Enter Cronometer login credentials\n",
    "email_address = \"xxxxxxx@gmail.com\" #@param {type:\"string\"}\n",
    "password = \"........#\" #@param {type:\"string\"}"
   ]
  },
  {
   "cell_type": "markdown",
   "metadata": {
    "id": "ZWVelqzHe-L2"
   },
   "source": [
    "# 3. Data Extraction\n",
    "\n",
    "Data can be extracted via [wearipedia](https://github.com/Stanford-Health/wearipedia/), our open-source Python package that unifies dozens of complex wearable device APIs into one simple, common interface.\n",
    "\n",
    "First, we'll set a date range and then extract all of the data within that date range. You can select whether you would like synthetic data or not with the checkbox."
   ]
  },
  {
   "cell_type": "code",
   "execution_count": 5,
   "metadata": {
    "id": "imNqkTSpe8GP"
   },
   "outputs": [],
   "source": [
    "#@title Enter start and end dates (in the format yyyy-mm-dd)\n",
    "\n",
    "#set start and end dates - this will give you all the data from 2000-01-01 (January 1st, 2000) to 2100-02-03 (February 3rd, 2100), for example\n",
    "start_date='2022-03-01' #@param {type:\"string\"}\n",
    "end_date='2022-09-17' #@param {type:\"string\"}\n",
    "synthetic = False #@param {type:\"boolean\"}"
   ]
  },
  {
   "cell_type": "code",
   "execution_count": 6,
   "metadata": {
    "id": "H-pWdzEzfAbN"
   },
   "outputs": [
    {
     "name": "stdout",
     "output_type": "stream",
     "text": [
      "Authentication successful\n"
     ]
    }
   ],
   "source": [
    "device = wearipedia.get_device(\"cronometer/cronometer\")\n",
    "\n",
    "if not synthetic:\n",
    "    device.authenticate({\"username\": email_address, \"password\": password})\n",
    "\n",
    "params = {\"start_date\": start_date, \"end_date\": end_date}"
   ]
  },
  {
   "cell_type": "markdown",
   "metadata": {},
   "source": [
    "We will first extract the daily summary of energy (calories) consumed in a day, as well as the consumption of different nutrients per day, such as vitamins, minerals, proteins, and carbohydrates."
   ]
  },
  {
   "cell_type": "code",
   "execution_count": 7,
   "metadata": {},
   "outputs": [
    {
     "data": {
      "text/html": [
       "<div>\n",
       "<style scoped>\n",
       "    .dataframe tbody tr th:only-of-type {\n",
       "        vertical-align: middle;\n",
       "    }\n",
       "\n",
       "    .dataframe tbody tr th {\n",
       "        vertical-align: top;\n",
       "    }\n",
       "\n",
       "    .dataframe thead th {\n",
       "        text-align: right;\n",
       "    }\n",
       "</style>\n",
       "<table border=\"1\" class=\"dataframe\">\n",
       "  <thead>\n",
       "    <tr style=\"text-align: right;\">\n",
       "      <th></th>\n",
       "      <th>Date</th>\n",
       "      <th>Energy (kcal)</th>\n",
       "      <th>Alcohol (g)</th>\n",
       "      <th>Caffeine (mg)</th>\n",
       "      <th>Water (g)</th>\n",
       "      <th>B1 (Thiamine) (mg)</th>\n",
       "      <th>B2 (Riboflavin) (mg)</th>\n",
       "      <th>B3 (Niacin) (mg)</th>\n",
       "      <th>B5 (Pantothenic Acid) (mg)</th>\n",
       "      <th>B6 (Pyridoxine) (mg)</th>\n",
       "      <th>...</th>\n",
       "      <th>Leucine (g)</th>\n",
       "      <th>Lysine (g)</th>\n",
       "      <th>Methionine (g)</th>\n",
       "      <th>Phenylalanine (g)</th>\n",
       "      <th>Protein (g)</th>\n",
       "      <th>Threonine (g)</th>\n",
       "      <th>Tryptophan (g)</th>\n",
       "      <th>Tyrosine (g)</th>\n",
       "      <th>Valine (g)</th>\n",
       "      <th>Completed</th>\n",
       "    </tr>\n",
       "  </thead>\n",
       "  <tbody>\n",
       "    <tr>\n",
       "      <th>0</th>\n",
       "      <td>2022-06-09</td>\n",
       "      <td>NaN</td>\n",
       "      <td>NaN</td>\n",
       "      <td>NaN</td>\n",
       "      <td>NaN</td>\n",
       "      <td>NaN</td>\n",
       "      <td>NaN</td>\n",
       "      <td>NaN</td>\n",
       "      <td>NaN</td>\n",
       "      <td>NaN</td>\n",
       "      <td>...</td>\n",
       "      <td>NaN</td>\n",
       "      <td>NaN</td>\n",
       "      <td>NaN</td>\n",
       "      <td>NaN</td>\n",
       "      <td>NaN</td>\n",
       "      <td>NaN</td>\n",
       "      <td>NaN</td>\n",
       "      <td>NaN</td>\n",
       "      <td>NaN</td>\n",
       "      <td>False</td>\n",
       "    </tr>\n",
       "    <tr>\n",
       "      <th>1</th>\n",
       "      <td>2022-06-10</td>\n",
       "      <td>NaN</td>\n",
       "      <td>NaN</td>\n",
       "      <td>NaN</td>\n",
       "      <td>NaN</td>\n",
       "      <td>NaN</td>\n",
       "      <td>NaN</td>\n",
       "      <td>NaN</td>\n",
       "      <td>NaN</td>\n",
       "      <td>NaN</td>\n",
       "      <td>...</td>\n",
       "      <td>NaN</td>\n",
       "      <td>NaN</td>\n",
       "      <td>NaN</td>\n",
       "      <td>NaN</td>\n",
       "      <td>NaN</td>\n",
       "      <td>NaN</td>\n",
       "      <td>NaN</td>\n",
       "      <td>NaN</td>\n",
       "      <td>NaN</td>\n",
       "      <td>False</td>\n",
       "    </tr>\n",
       "    <tr>\n",
       "      <th>2</th>\n",
       "      <td>2022-06-11</td>\n",
       "      <td>NaN</td>\n",
       "      <td>NaN</td>\n",
       "      <td>NaN</td>\n",
       "      <td>NaN</td>\n",
       "      <td>NaN</td>\n",
       "      <td>NaN</td>\n",
       "      <td>NaN</td>\n",
       "      <td>NaN</td>\n",
       "      <td>NaN</td>\n",
       "      <td>...</td>\n",
       "      <td>NaN</td>\n",
       "      <td>NaN</td>\n",
       "      <td>NaN</td>\n",
       "      <td>NaN</td>\n",
       "      <td>NaN</td>\n",
       "      <td>NaN</td>\n",
       "      <td>NaN</td>\n",
       "      <td>NaN</td>\n",
       "      <td>NaN</td>\n",
       "      <td>False</td>\n",
       "    </tr>\n",
       "    <tr>\n",
       "      <th>3</th>\n",
       "      <td>2022-06-12</td>\n",
       "      <td>NaN</td>\n",
       "      <td>NaN</td>\n",
       "      <td>NaN</td>\n",
       "      <td>NaN</td>\n",
       "      <td>NaN</td>\n",
       "      <td>NaN</td>\n",
       "      <td>NaN</td>\n",
       "      <td>NaN</td>\n",
       "      <td>NaN</td>\n",
       "      <td>...</td>\n",
       "      <td>NaN</td>\n",
       "      <td>NaN</td>\n",
       "      <td>NaN</td>\n",
       "      <td>NaN</td>\n",
       "      <td>NaN</td>\n",
       "      <td>NaN</td>\n",
       "      <td>NaN</td>\n",
       "      <td>NaN</td>\n",
       "      <td>NaN</td>\n",
       "      <td>False</td>\n",
       "    </tr>\n",
       "    <tr>\n",
       "      <th>4</th>\n",
       "      <td>2022-06-13</td>\n",
       "      <td>NaN</td>\n",
       "      <td>NaN</td>\n",
       "      <td>NaN</td>\n",
       "      <td>NaN</td>\n",
       "      <td>NaN</td>\n",
       "      <td>NaN</td>\n",
       "      <td>NaN</td>\n",
       "      <td>NaN</td>\n",
       "      <td>NaN</td>\n",
       "      <td>...</td>\n",
       "      <td>NaN</td>\n",
       "      <td>NaN</td>\n",
       "      <td>NaN</td>\n",
       "      <td>NaN</td>\n",
       "      <td>NaN</td>\n",
       "      <td>NaN</td>\n",
       "      <td>NaN</td>\n",
       "      <td>NaN</td>\n",
       "      <td>NaN</td>\n",
       "      <td>False</td>\n",
       "    </tr>\n",
       "  </tbody>\n",
       "</table>\n",
       "<p>5 rows × 53 columns</p>\n",
       "</div>"
      ],
      "text/plain": [
       "         Date  Energy (kcal)  Alcohol (g)  Caffeine (mg)  Water (g)  \\\n",
       "0  2022-06-09            NaN          NaN            NaN        NaN   \n",
       "1  2022-06-10            NaN          NaN            NaN        NaN   \n",
       "2  2022-06-11            NaN          NaN            NaN        NaN   \n",
       "3  2022-06-12            NaN          NaN            NaN        NaN   \n",
       "4  2022-06-13            NaN          NaN            NaN        NaN   \n",
       "\n",
       "   B1 (Thiamine) (mg)  B2 (Riboflavin) (mg)  B3 (Niacin) (mg)  \\\n",
       "0                 NaN                   NaN               NaN   \n",
       "1                 NaN                   NaN               NaN   \n",
       "2                 NaN                   NaN               NaN   \n",
       "3                 NaN                   NaN               NaN   \n",
       "4                 NaN                   NaN               NaN   \n",
       "\n",
       "   B5 (Pantothenic Acid) (mg)  B6 (Pyridoxine) (mg)  ...  Leucine (g)  \\\n",
       "0                         NaN                   NaN  ...          NaN   \n",
       "1                         NaN                   NaN  ...          NaN   \n",
       "2                         NaN                   NaN  ...          NaN   \n",
       "3                         NaN                   NaN  ...          NaN   \n",
       "4                         NaN                   NaN  ...          NaN   \n",
       "\n",
       "   Lysine (g)  Methionine (g)  Phenylalanine (g)  Protein (g)  Threonine (g)  \\\n",
       "0         NaN             NaN                NaN          NaN            NaN   \n",
       "1         NaN             NaN                NaN          NaN            NaN   \n",
       "2         NaN             NaN                NaN          NaN            NaN   \n",
       "3         NaN             NaN                NaN          NaN            NaN   \n",
       "4         NaN             NaN                NaN          NaN            NaN   \n",
       "\n",
       "   Tryptophan (g)  Tyrosine (g)  Valine (g)  Completed  \n",
       "0             NaN           NaN         NaN      False  \n",
       "1             NaN           NaN         NaN      False  \n",
       "2             NaN           NaN         NaN      False  \n",
       "3             NaN           NaN         NaN      False  \n",
       "4             NaN           NaN         NaN      False  \n",
       "\n",
       "[5 rows x 53 columns]"
      ]
     },
     "execution_count": 7,
     "metadata": {},
     "output_type": "execute_result"
    }
   ],
   "source": [
    "dailySummary = device.get_data(\"dailySummary\", params=params)\n",
    "pd.DataFrame(dailySummary).head()"
   ]
  },
  {
   "cell_type": "markdown",
   "metadata": {},
   "source": [
    "We will first extract the nutrient summary of energy (calories) consumed per meal serving, as well as the consumption of different nutrients per day, such as vitamins, minerals, proteins, and carbohydrates."
   ]
  },
  {
   "cell_type": "code",
   "execution_count": 8,
   "metadata": {},
   "outputs": [
    {
     "data": {
      "text/html": [
       "<div>\n",
       "<style scoped>\n",
       "    .dataframe tbody tr th:only-of-type {\n",
       "        vertical-align: middle;\n",
       "    }\n",
       "\n",
       "    .dataframe tbody tr th {\n",
       "        vertical-align: top;\n",
       "    }\n",
       "\n",
       "    .dataframe thead th {\n",
       "        text-align: right;\n",
       "    }\n",
       "</style>\n",
       "<table border=\"1\" class=\"dataframe\">\n",
       "  <thead>\n",
       "    <tr style=\"text-align: right;\">\n",
       "      <th></th>\n",
       "      <th>Day</th>\n",
       "      <th>Food Name</th>\n",
       "      <th>Amount</th>\n",
       "      <th>Energy (kcal)</th>\n",
       "      <th>Alcohol (g)</th>\n",
       "      <th>Caffeine (mg)</th>\n",
       "      <th>Water (g)</th>\n",
       "      <th>B1 (Thiamine) (mg)</th>\n",
       "      <th>B2 (Riboflavin) (mg)</th>\n",
       "      <th>B3 (Niacin) (mg)</th>\n",
       "      <th>...</th>\n",
       "      <th>Leucine (g)</th>\n",
       "      <th>Lysine (g)</th>\n",
       "      <th>Methionine (g)</th>\n",
       "      <th>Phenylalanine (g)</th>\n",
       "      <th>Protein (g)</th>\n",
       "      <th>Threonine (g)</th>\n",
       "      <th>Tryptophan (g)</th>\n",
       "      <th>Tyrosine (g)</th>\n",
       "      <th>Valine (g)</th>\n",
       "      <th>Category</th>\n",
       "    </tr>\n",
       "  </thead>\n",
       "  <tbody>\n",
       "    <tr>\n",
       "      <th>0</th>\n",
       "      <td>2022-07-20</td>\n",
       "      <td>Cheese Ravioli, with Tomato Sauce</td>\n",
       "      <td>1.00 cup, whole pieces</td>\n",
       "      <td>327.16</td>\n",
       "      <td>0.0</td>\n",
       "      <td>0.0</td>\n",
       "      <td>177.16</td>\n",
       "      <td>0.49</td>\n",
       "      <td>0.52</td>\n",
       "      <td>3.35</td>\n",
       "      <td>...</td>\n",
       "      <td>0.99</td>\n",
       "      <td>0.79</td>\n",
       "      <td>0.26</td>\n",
       "      <td>0.59</td>\n",
       "      <td>12.78</td>\n",
       "      <td>0.46</td>\n",
       "      <td>0.14</td>\n",
       "      <td>0.47</td>\n",
       "      <td>0.61</td>\n",
       "      <td>Cereal Grains and Pasta</td>\n",
       "    </tr>\n",
       "    <tr>\n",
       "      <th>1</th>\n",
       "      <td>2022-07-20</td>\n",
       "      <td>Sausage, Pork, Fresh</td>\n",
       "      <td>3.00 medium link - breakfast size</td>\n",
       "      <td>195.00</td>\n",
       "      <td>0.0</td>\n",
       "      <td>0.0</td>\n",
       "      <td>29.93</td>\n",
       "      <td>0.15</td>\n",
       "      <td>0.11</td>\n",
       "      <td>3.67</td>\n",
       "      <td>...</td>\n",
       "      <td>0.82</td>\n",
       "      <td>0.74</td>\n",
       "      <td>0.26</td>\n",
       "      <td>0.40</td>\n",
       "      <td>11.12</td>\n",
       "      <td>0.37</td>\n",
       "      <td>0.11</td>\n",
       "      <td>0.31</td>\n",
       "      <td>0.53</td>\n",
       "      <td>Sausages and Luncheon Meats</td>\n",
       "    </tr>\n",
       "    <tr>\n",
       "      <th>2</th>\n",
       "      <td>2022-07-20</td>\n",
       "      <td>Mango, Fresh</td>\n",
       "      <td>2.00 each</td>\n",
       "      <td>403.20</td>\n",
       "      <td>0.0</td>\n",
       "      <td>0.0</td>\n",
       "      <td>560.85</td>\n",
       "      <td>0.19</td>\n",
       "      <td>0.26</td>\n",
       "      <td>4.50</td>\n",
       "      <td>...</td>\n",
       "      <td>0.34</td>\n",
       "      <td>0.44</td>\n",
       "      <td>0.05</td>\n",
       "      <td>0.18</td>\n",
       "      <td>5.51</td>\n",
       "      <td>0.21</td>\n",
       "      <td>0.09</td>\n",
       "      <td>0.11</td>\n",
       "      <td>0.28</td>\n",
       "      <td>Fruits and Fruit Juices</td>\n",
       "    </tr>\n",
       "    <tr>\n",
       "      <th>3</th>\n",
       "      <td>2022-07-20</td>\n",
       "      <td>Chocolate Milk, Whole</td>\n",
       "      <td>1.00 cup</td>\n",
       "      <td>207.50</td>\n",
       "      <td>0.0</td>\n",
       "      <td>2.5</td>\n",
       "      <td>205.75</td>\n",
       "      <td>0.09</td>\n",
       "      <td>0.41</td>\n",
       "      <td>0.31</td>\n",
       "      <td>...</td>\n",
       "      <td>0.75</td>\n",
       "      <td>0.66</td>\n",
       "      <td>0.21</td>\n",
       "      <td>0.41</td>\n",
       "      <td>7.93</td>\n",
       "      <td>0.34</td>\n",
       "      <td>0.10</td>\n",
       "      <td>0.40</td>\n",
       "      <td>0.52</td>\n",
       "      <td>Dairy and Egg Products</td>\n",
       "    </tr>\n",
       "    <tr>\n",
       "      <th>4</th>\n",
       "      <td>2022-07-20</td>\n",
       "      <td>Beef Enchiladas, with Cheese</td>\n",
       "      <td>1.00 each - 6\" long, 6\" diameter tortilla rolled</td>\n",
       "      <td>220.55</td>\n",
       "      <td>0.0</td>\n",
       "      <td>0.0</td>\n",
       "      <td>121.97</td>\n",
       "      <td>0.08</td>\n",
       "      <td>0.18</td>\n",
       "      <td>2.41</td>\n",
       "      <td>...</td>\n",
       "      <td>1.16</td>\n",
       "      <td>1.03</td>\n",
       "      <td>0.34</td>\n",
       "      <td>0.59</td>\n",
       "      <td>13.65</td>\n",
       "      <td>0.51</td>\n",
       "      <td>0.10</td>\n",
       "      <td>0.49</td>\n",
       "      <td>0.72</td>\n",
       "      <td>Meals, Entrees, and Sidedishes</td>\n",
       "    </tr>\n",
       "  </tbody>\n",
       "</table>\n",
       "<p>5 rows × 55 columns</p>\n",
       "</div>"
      ],
      "text/plain": [
       "          Day                          Food Name  \\\n",
       "0  2022-07-20  Cheese Ravioli, with Tomato Sauce   \n",
       "1  2022-07-20               Sausage, Pork, Fresh   \n",
       "2  2022-07-20                       Mango, Fresh   \n",
       "3  2022-07-20              Chocolate Milk, Whole   \n",
       "4  2022-07-20       Beef Enchiladas, with Cheese   \n",
       "\n",
       "                                             Amount  Energy (kcal)  \\\n",
       "0                            1.00 cup, whole pieces         327.16   \n",
       "1                 3.00 medium link - breakfast size         195.00   \n",
       "2                                         2.00 each         403.20   \n",
       "3                                          1.00 cup         207.50   \n",
       "4  1.00 each - 6\" long, 6\" diameter tortilla rolled         220.55   \n",
       "\n",
       "   Alcohol (g)  Caffeine (mg)  Water (g)  B1 (Thiamine) (mg)  \\\n",
       "0          0.0            0.0     177.16                0.49   \n",
       "1          0.0            0.0      29.93                0.15   \n",
       "2          0.0            0.0     560.85                0.19   \n",
       "3          0.0            2.5     205.75                0.09   \n",
       "4          0.0            0.0     121.97                0.08   \n",
       "\n",
       "   B2 (Riboflavin) (mg)  B3 (Niacin) (mg)  ...  Leucine (g)  Lysine (g)  \\\n",
       "0                  0.52              3.35  ...         0.99        0.79   \n",
       "1                  0.11              3.67  ...         0.82        0.74   \n",
       "2                  0.26              4.50  ...         0.34        0.44   \n",
       "3                  0.41              0.31  ...         0.75        0.66   \n",
       "4                  0.18              2.41  ...         1.16        1.03   \n",
       "\n",
       "   Methionine (g)  Phenylalanine (g)  Protein (g)  Threonine (g)  \\\n",
       "0            0.26               0.59        12.78           0.46   \n",
       "1            0.26               0.40        11.12           0.37   \n",
       "2            0.05               0.18         5.51           0.21   \n",
       "3            0.21               0.41         7.93           0.34   \n",
       "4            0.34               0.59        13.65           0.51   \n",
       "\n",
       "   Tryptophan (g)  Tyrosine (g)  Valine (g)                        Category  \n",
       "0            0.14          0.47        0.61         Cereal Grains and Pasta  \n",
       "1            0.11          0.31        0.53     Sausages and Luncheon Meats  \n",
       "2            0.09          0.11        0.28         Fruits and Fruit Juices  \n",
       "3            0.10          0.40        0.52          Dairy and Egg Products  \n",
       "4            0.10          0.49        0.72  Meals, Entrees, and Sidedishes  \n",
       "\n",
       "[5 rows x 55 columns]"
      ]
     },
     "execution_count": 8,
     "metadata": {},
     "output_type": "execute_result"
    }
   ],
   "source": [
    "servings = device.get_data(\"servings\", params=params)\n",
    "pd.DataFrame(servings).head()"
   ]
  },
  {
   "cell_type": "markdown",
   "metadata": {},
   "source": [
    "Next, we will extract data on exercises recorded in cronomterer with their duration and calories burned."
   ]
  },
  {
   "cell_type": "code",
   "execution_count": 9,
   "metadata": {},
   "outputs": [
    {
     "data": {
      "text/html": [
       "<div>\n",
       "<style scoped>\n",
       "    .dataframe tbody tr th:only-of-type {\n",
       "        vertical-align: middle;\n",
       "    }\n",
       "\n",
       "    .dataframe tbody tr th {\n",
       "        vertical-align: top;\n",
       "    }\n",
       "\n",
       "    .dataframe thead th {\n",
       "        text-align: right;\n",
       "    }\n",
       "</style>\n",
       "<table border=\"1\" class=\"dataframe\">\n",
       "  <thead>\n",
       "    <tr style=\"text-align: right;\">\n",
       "      <th></th>\n",
       "      <th>Day</th>\n",
       "      <th>Exercise</th>\n",
       "      <th>Minutes</th>\n",
       "      <th>Calories Burned</th>\n",
       "    </tr>\n",
       "  </thead>\n",
       "  <tbody>\n",
       "    <tr>\n",
       "      <th>0</th>\n",
       "      <td>2022-07-18</td>\n",
       "      <td>Active Energy Balance (Apple Health)</td>\n",
       "      <td>21.000000</td>\n",
       "      <td>-371.07</td>\n",
       "    </tr>\n",
       "    <tr>\n",
       "      <th>1</th>\n",
       "      <td>2022-07-17</td>\n",
       "      <td>Running (Apple Health)</td>\n",
       "      <td>21.628315</td>\n",
       "      <td>-151.20</td>\n",
       "    </tr>\n",
       "    <tr>\n",
       "      <th>2</th>\n",
       "      <td>2022-07-17</td>\n",
       "      <td>Active Energy Balance (Apple Health)</td>\n",
       "      <td>41.000000</td>\n",
       "      <td>-523.56</td>\n",
       "    </tr>\n",
       "    <tr>\n",
       "      <th>3</th>\n",
       "      <td>2022-07-11</td>\n",
       "      <td>Active Energy Balance (Apple Health)</td>\n",
       "      <td>3.000000</td>\n",
       "      <td>-6.98</td>\n",
       "    </tr>\n",
       "    <tr>\n",
       "      <th>4</th>\n",
       "      <td>2022-07-09</td>\n",
       "      <td>Active Energy Balance (Apple Health)</td>\n",
       "      <td>23.000000</td>\n",
       "      <td>-231.60</td>\n",
       "    </tr>\n",
       "  </tbody>\n",
       "</table>\n",
       "</div>"
      ],
      "text/plain": [
       "          Day                              Exercise    Minutes  \\\n",
       "0  2022-07-18  Active Energy Balance (Apple Health)  21.000000   \n",
       "1  2022-07-17                Running (Apple Health)  21.628315   \n",
       "2  2022-07-17  Active Energy Balance (Apple Health)  41.000000   \n",
       "3  2022-07-11  Active Energy Balance (Apple Health)   3.000000   \n",
       "4  2022-07-09  Active Energy Balance (Apple Health)  23.000000   \n",
       "\n",
       "   Calories Burned  \n",
       "0          -371.07  \n",
       "1          -151.20  \n",
       "2          -523.56  \n",
       "3            -6.98  \n",
       "4          -231.60  "
      ]
     },
     "execution_count": 9,
     "metadata": {},
     "output_type": "execute_result"
    }
   ],
   "source": [
    "exercises = device.get_data(\"exercises\", params=params)\n",
    "pd.DataFrame(exercises).head()"
   ]
  },
  {
   "cell_type": "markdown",
   "metadata": {},
   "source": [
    "Lastly, we will be extracting biometric data like weight, heartrate, v02 max, etc that has been recorded with cronometer."
   ]
  },
  {
   "cell_type": "code",
   "execution_count": 10,
   "metadata": {},
   "outputs": [
    {
     "data": {
      "text/html": [
       "<div>\n",
       "<style scoped>\n",
       "    .dataframe tbody tr th:only-of-type {\n",
       "        vertical-align: middle;\n",
       "    }\n",
       "\n",
       "    .dataframe tbody tr th {\n",
       "        vertical-align: top;\n",
       "    }\n",
       "\n",
       "    .dataframe thead th {\n",
       "        text-align: right;\n",
       "    }\n",
       "</style>\n",
       "<table border=\"1\" class=\"dataframe\">\n",
       "  <thead>\n",
       "    <tr style=\"text-align: right;\">\n",
       "      <th></th>\n",
       "      <th>Day</th>\n",
       "      <th>Metric</th>\n",
       "      <th>Unit</th>\n",
       "      <th>Amount</th>\n",
       "    </tr>\n",
       "  </thead>\n",
       "  <tbody>\n",
       "    <tr>\n",
       "      <th>0</th>\n",
       "      <td>2022-06-09</td>\n",
       "      <td>Heart Rate (Apple Health)</td>\n",
       "      <td>bpm</td>\n",
       "      <td>118.0950</td>\n",
       "    </tr>\n",
       "    <tr>\n",
       "      <th>1</th>\n",
       "      <td>2022-06-10</td>\n",
       "      <td>Heart Rate (Apple Health)</td>\n",
       "      <td>bpm</td>\n",
       "      <td>90.6581</td>\n",
       "    </tr>\n",
       "    <tr>\n",
       "      <th>2</th>\n",
       "      <td>2022-06-11</td>\n",
       "      <td>Heart Rate (Apple Health)</td>\n",
       "      <td>bpm</td>\n",
       "      <td>85.9745</td>\n",
       "    </tr>\n",
       "    <tr>\n",
       "      <th>3</th>\n",
       "      <td>2022-06-12</td>\n",
       "      <td>Heart Rate (Apple Health)</td>\n",
       "      <td>bpm</td>\n",
       "      <td>78.7766</td>\n",
       "    </tr>\n",
       "    <tr>\n",
       "      <th>4</th>\n",
       "      <td>2022-06-13</td>\n",
       "      <td>Heart Rate (Apple Health)</td>\n",
       "      <td>bpm</td>\n",
       "      <td>83.3569</td>\n",
       "    </tr>\n",
       "    <tr>\n",
       "      <th>...</th>\n",
       "      <td>...</td>\n",
       "      <td>...</td>\n",
       "      <td>...</td>\n",
       "      <td>...</td>\n",
       "    </tr>\n",
       "    <tr>\n",
       "      <th>70</th>\n",
       "      <td>2022-08-07</td>\n",
       "      <td>Heart Rate (Apple Health)</td>\n",
       "      <td>bpm</td>\n",
       "      <td>90.3077</td>\n",
       "    </tr>\n",
       "    <tr>\n",
       "      <th>71</th>\n",
       "      <td>2022-08-08</td>\n",
       "      <td>Heart Rate (Apple Health)</td>\n",
       "      <td>bpm</td>\n",
       "      <td>126.5150</td>\n",
       "    </tr>\n",
       "    <tr>\n",
       "      <th>72</th>\n",
       "      <td>2022-08-09</td>\n",
       "      <td>Heart Rate (Apple Health)</td>\n",
       "      <td>bpm</td>\n",
       "      <td>112.4480</td>\n",
       "    </tr>\n",
       "    <tr>\n",
       "      <th>73</th>\n",
       "      <td>2022-08-10</td>\n",
       "      <td>Heart Rate (Apple Health)</td>\n",
       "      <td>bpm</td>\n",
       "      <td>112.2810</td>\n",
       "    </tr>\n",
       "    <tr>\n",
       "      <th>74</th>\n",
       "      <td>2022-08-11</td>\n",
       "      <td>Heart Rate (Apple Health)</td>\n",
       "      <td>bpm</td>\n",
       "      <td>111.2770</td>\n",
       "    </tr>\n",
       "  </tbody>\n",
       "</table>\n",
       "<p>75 rows × 4 columns</p>\n",
       "</div>"
      ],
      "text/plain": [
       "           Day                     Metric Unit    Amount\n",
       "0   2022-06-09  Heart Rate (Apple Health)  bpm  118.0950\n",
       "1   2022-06-10  Heart Rate (Apple Health)  bpm   90.6581\n",
       "2   2022-06-11  Heart Rate (Apple Health)  bpm   85.9745\n",
       "3   2022-06-12  Heart Rate (Apple Health)  bpm   78.7766\n",
       "4   2022-06-13  Heart Rate (Apple Health)  bpm   83.3569\n",
       "..         ...                        ...  ...       ...\n",
       "70  2022-08-07  Heart Rate (Apple Health)  bpm   90.3077\n",
       "71  2022-08-08  Heart Rate (Apple Health)  bpm  126.5150\n",
       "72  2022-08-09  Heart Rate (Apple Health)  bpm  112.4480\n",
       "73  2022-08-10  Heart Rate (Apple Health)  bpm  112.2810\n",
       "74  2022-08-11  Heart Rate (Apple Health)  bpm  111.2770\n",
       "\n",
       "[75 rows x 4 columns]"
      ]
     },
     "execution_count": 10,
     "metadata": {},
     "output_type": "execute_result"
    }
   ],
   "source": [
    "biometrics = device.get_data(\"biometrics\", params=params)\n",
    "pd.DataFrame(biometrics)"
   ]
  },
  {
   "cell_type": "markdown",
   "metadata": {
    "id": "kA0mnAEtfjGw"
   },
   "source": [
    "# 4. Data Exporting\n",
    "\n",
    "In this section, we export all of this data to formats compatible with popular scientific computing software (R, Excel, Google Sheets, Matlab). Specifically, we will first export to JSON, which can be read by R and Matlab. Then, we will export to CSV, which can be consumed by Excel, Google Sheets, and every other popular programming language.\n",
    "\n",
    "## Exporting to JSON (R, Matlab, etc.)\n",
    "\n",
    "Exporting to JSON is fairly simple. We export each datatype separately and also export a complete version that includes all simultaneously."
   ]
  },
  {
   "cell_type": "code",
   "execution_count": 11,
   "metadata": {
    "id": "xwl4BMTrfEdG"
   },
   "outputs": [],
   "source": [
    "json.dump(dailySummary, open(\"dailySummary.json\", \"w\"))\n",
    "json.dump(servings, open(\"servings.json\", \"w\"))\n",
    "json.dump(exercises, open(\"exercises.json\", \"w\"))\n",
    "json.dump(biometrics, open(\"biometrics.json\", \"w\"))\n",
    "\n",
    "complete = {\n",
    "    \"dailySummary\": dailySummary,\n",
    "    \"servings\": servings,\n",
    "    \"exercises\": exercises,\n",
    "    \"biometrics\": biometrics\n",
    "}\n",
    "\n",
    "json.dump(complete, open(\"complete.json\", \"w\"))"
   ]
  },
  {
   "cell_type": "markdown",
   "metadata": {
    "id": "oHcdzBcMf6SU"
   },
   "source": [
    "Feel free to open the file viewer (see left pane) to look at the outputs!\n",
    "\n",
    "## Exporting to CSV and XLSX (Excel, Google Sheets, R, Matlab, etc.)\n",
    "\n",
    "Exporting to CSV/XLSX requires a bit more processing, since they enforce a pretty restrictive schema.\n",
    "\n",
    "We will thus export steps, heart rates, and breath rates all as separate files."
   ]
  },
  {
   "cell_type": "code",
   "execution_count": 12,
   "metadata": {
    "id": "8GH7eKrufa1l"
   },
   "outputs": [],
   "source": [
    "\n",
    "dailySummary_df = pd.DataFrame.from_dict(dailySummary)\n",
    "\n",
    "dailySummary_df.to_csv('dailySummary.csv')\n",
    "dailySummary_df.to_excel('dailySummary.xlsx')\n",
    "\n",
    "servings_df = pd.DataFrame.from_dict(servings)\n",
    "\n",
    "servings_df.to_csv('servings.csv', index=False)\n",
    "servings_df.to_excel('servings.xlsx', index=False)\n",
    "\n",
    "exercises_df = pd.DataFrame.from_dict(exercises)\n",
    "\n",
    "exercises_df.to_csv('exercises.csv', index=False)\n",
    "exercises_df.to_excel('exercises.xlsx', index=False)\n",
    "\n",
    "biometrics_df = pd.DataFrame.from_dict(biometrics)\n",
    "\n",
    "biometrics_df.to_csv('biometrics.csv', index=False)\n",
    "biometrics_df.to_excel('biometrics.xlsx', index=False)"
   ]
  },
  {
   "cell_type": "markdown",
   "metadata": {
    "id": "ZNRvGqso8Njy"
   },
   "source": [
    "Again, feel free to look at the output files and download them."
   ]
  },
  {
   "cell_type": "markdown",
   "metadata": {
    "id": "t1N2qX298Q52"
   },
   "source": [
    "# 5. Adherence\n",
    "\n",
    "The device simulator already automatically randomly deletes small chunks of the day. In this section, we will simulate non-adherence over longer periods of time from the participant (day-level and week-level).\n",
    "\n",
    "Then, we will detect this non-adherence and give a Pandas DataFrame that concisely describes when the participant has had their device on and off throughout the entirety of the time period, allowing you to calculate how long they've had it on/off etc.\n",
    "\n",
    "We will first delete a certain % of blocks either at the day level or week level, with user input."
   ]
  },
  {
   "cell_type": "code",
   "execution_count": 13,
   "metadata": {
    "id": "M7ezn7YL5z60"
   },
   "outputs": [],
   "source": [
    "#@title Non-adherence simulation\n",
    "block_level = \"day\" #@param [\"day\", \"week\"]\n",
    "adherence_percent = 0.89 #@param {type:\"slider\", min:0, max:1, step:0.01}"
   ]
  },
  {
   "cell_type": "code",
   "execution_count": 14,
   "metadata": {
    "id": "ZIuef9Rq8Zfr"
   },
   "outputs": [],
   "source": [
    "if block_level == \"day\":\n",
    "    block_length = 1\n",
    "elif block_level == \"week\":\n",
    "    block_length = 7\n",
    "\n",
    "# This function will randomly remove datapoints from the \n",
    "# data we have recieved from Cronometer based on the\n",
    "# adherence_percent\n",
    "\n",
    "def AdherenceSimulator(data):\n",
    "  num_blocks = len(data) // block_length\n",
    "  num_blocks_to_keep = int(adherence_percent * num_blocks)\n",
    "  idxes = np.random.choice(np.arange(num_blocks), replace=False, \n",
    "  size=num_blocks_to_keep)\n",
    "  adhered_data = []\n",
    "  for i in range(len(data)):\n",
    "      if i in idxes:\n",
    "          start = i * block_length\n",
    "          end = (i + 1) * block_length\n",
    "          for j in range(i,i+1):\n",
    "            adhered_data.append(data[j])\n",
    "  return adhered_data\n",
    "\n",
    "# Adding adherence for daily summary\n",
    "\n",
    "dailySummary = AdherenceSimulator(dailySummary)\n",
    "\n",
    "# Adding adherence for exercises\n",
    "\n",
    "exercises = AdherenceSimulator(exercises)\n",
    "\n",
    "# Adding adherence for biometrics\n",
    "\n",
    "biometrics = AdherenceSimulator(biometrics)\n",
    "\n",
    "# Adding adherence for servings\n",
    "\n",
    "servings = AdherenceSimulator(servings)"
   ]
  },
  {
   "cell_type": "markdown",
   "metadata": {
    "id": "gS7_OF1Zj53w"
   },
   "source": [
    "And now we have significantly fewer datapoints! This will give us a more realistic situation, where participants may take off their device for days or weeks at a time.\n",
    "\n",
    "Now let's detect non-adherence. We will return a Pandas DataFrame sampled at every day."
   ]
  },
  {
   "cell_type": "code",
   "execution_count": 15,
   "metadata": {
    "id": "Gf5Jp8HXjm0e"
   },
   "outputs": [],
   "source": [
    "dailySummary_df = pd.DataFrame.from_dict(dailySummary)\n",
    "servings_df = pd.DataFrame.from_dict(servings)\n",
    "exercises_df = pd.DataFrame.from_dict(exercises)\n",
    "biometrics_df = pd.DataFrame.from_dict(biometrics)"
   ]
  },
  {
   "cell_type": "markdown",
   "metadata": {
    "id": "FvsDKGzxnTAN"
   },
   "source": [
    "We can plot this out, and we get adherence at one-day frequency throughout the entirety of the data collection period. For this chart we will plot Energy consumed over the time period from the dailySummary dataframe."
   ]
  },
  {
   "cell_type": "code",
   "execution_count": 16,
   "metadata": {
    "colab": {
     "base_uri": "https://localhost:8080/",
     "height": 374
    },
    "id": "awU2gtJXmcnP",
    "outputId": "aab458f4-9509-420a-9b30-0873d70c3b5a"
   },
   "outputs": [
    {
     "data": {
      "image/png": "[encoded data removed]",
      "text/plain": [
       "<Figure size 1200x600 with 1 Axes>"
      ]
     },
     "metadata": {},
     "output_type": "display_data"
    }
   ],
   "source": [
    "dates = pd.date_range(start_date,end_date)\n",
    "\n",
    "energy = []\n",
    "\n",
    "for d in dates:\n",
    "  res = dailySummary_df[dailySummary_df.Date == datetime.strftime(d,\n",
    "  '%Y-%m-%d')]['Energy (kcal)']\n",
    "  if len(res) == 0:\n",
    "    energy.append(None)\n",
    "  else:\n",
    "    energy.append(res.iloc[0])\n",
    "\n",
    "plt.figure(figsize=(12, 6))\n",
    "plt.plot(dates, energy)\n",
    "plt.show()"
   ]
  },
  {
   "cell_type": "markdown",
   "metadata": {
    "id": "yOsrr4s0re5Y"
   },
   "source": [
    "## 6. Visualization\n",
    "\n",
    "We've extracted lots of data, but what does it look like?\n",
    "\n",
    "In this section, we will be visualizing our three kinds of data in a simple, customizable plot! This plot is intended to provide a starter example for plotting, whereas later examples emphasize deep control and aesthetics."
   ]
  },
  {
   "cell_type": "code",
   "execution_count": 17,
   "metadata": {
    "colab": {
     "base_uri": "https://localhost:8080/",
     "height": 521
    },
    "id": "LSj2hBfOp9sG",
    "outputId": "d4e69115-49c1-47a0-b0b2-7b234dffd879"
   },
   "outputs": [
    {
     "data": {
      "image/png": "[encoded data removed]",
      "text/plain": [
       "<Figure size 1500x800 with 1 Axes>"
      ]
     },
     "metadata": {},
     "output_type": "display_data"
    }
   ],
   "source": [
    "#@title Basic Plot\n",
    "feature = \"Heart Rate (Apple Health)\" #@param ['Heart Rate (Apple Health)', 'Weight']\n",
    "start_date = \"2022-03-04\" #@param {type:\"date\"}\n",
    "time_interval = \"full time\" #@param [\"one week\", \"full time\"]\n",
    "smoothness = 0.02 #@param {type:\"slider\", min:0, max:1, step:0.01}\n",
    "smooth_plot = True #@param {type:\"boolean\"}\n",
    "\n",
    "start_date = datetime.strptime(start_date, '%Y-%m-%d')\n",
    "\n",
    "if time_interval == \"one week\":\n",
    "    day_idxes = [i for i,d in enumerate(dates) if d >= start_date and d <= start_date + timedelta(days=7)]\n",
    "    end_date = start_date + timedelta(days=7)\n",
    "elif time_interval == \"full time\":\n",
    "    day_idxes = [i for i,d in enumerate(dates) if d >= start_date]\n",
    "    end_date = dates[-1]\n",
    "\n",
    "if feature == \"Weight\":\n",
    "    weights = biometrics_df[biometrics_df['Metric']=='Weight']\n",
    "    concat_weight = []\n",
    "    for i,d in enumerate(dates):\n",
    "        day = d.strftime('%Y-%m-%d')\n",
    "        if i in day_idxes:\n",
    "          weight = weights[weights['Day']==day]\n",
    "          if len(weight) != 0:\n",
    "              concat_weight += [(day,weight.iloc[0].Amount)]\n",
    "          else:\n",
    "              concat_weight += [(day,None)]\n",
    "    ts = [x[0] for x in concat_weight]\n",
    "\n",
    "    day_arr = [x[1] for x in concat_weight]\n",
    "\n",
    "    sigma = 200 * smoothness\n",
    "\n",
    "    title_fillin = \"Weight\"\n",
    "\n",
    "  \n",
    "if feature == 'Heart Rate (Apple Health)':\n",
    "    hrs = biometrics_df[biometrics_df['Metric']=='Heart Rate (Apple Health)']\n",
    "    concat_hr = []\n",
    "    for i,d in enumerate(dates):\n",
    "        day = d.strftime('%Y-%m-%d')\n",
    "        if i in day_idxes:\n",
    "          hr = hrs[hrs['Day']==day]\n",
    "          if len(hr) != 0:\n",
    "              concat_hr += [(day,hr.iloc[0].Amount)]\n",
    "          else:\n",
    "              concat_hr += [(day,None)]\n",
    "    ts = [x[0] for x in concat_hr]\n",
    "\n",
    "    day_arr = [x[1] for x in concat_hr]\n",
    "\n",
    "    sigma = 200 * smoothness\n",
    "\n",
    "    title_fillin = \"Weight\"\n",
    "\n",
    "\n",
    "with plt.style.context('ggplot'):\n",
    "    fig, ax = plt.subplots(figsize=(15, 8))\n",
    "\n",
    "    if smooth_plot:\n",
    "        def to_numpy(day_arr):\n",
    "            arr_nonone = [x for x in day_arr if x is not None]\n",
    "            mean_val = int(np.mean(arr_nonone))\n",
    "            for i,x in enumerate(day_arr):\n",
    "                if x is None:\n",
    "                    day_arr[i] = mean_val\n",
    "\n",
    "            return np.array(day_arr)\n",
    "\n",
    "        none_idxes = [i for i,x in enumerate(day_arr) if x is None]\n",
    "        day_arr = to_numpy(day_arr)\n",
    "        day_arr = list(gaussian_filter(day_arr, sigma=sigma))\n",
    "        for i, x in enumerate(day_arr):\n",
    "            if i in none_idxes:\n",
    "                day_arr[i] = None\n",
    "\n",
    "    plt.plot(ts, day_arr)\n",
    "    start_date_str = start_date.strftime('%Y-%m-%d')\n",
    "    end_date_str = end_date.strftime('%Y-%m-%d')\n",
    "    plt.title(f\"{title_fillin} from {start_date_str} to {end_date_str}\",\n",
    "              fontsize=20)\n",
    "    plt.xlabel(\"Date\")\n",
    "    plt.xticks(ts[::int(len(ts)/8)])\n",
    "    plt.ylabel(title_fillin)"
   ]
  },
  {
   "cell_type": "markdown",
   "metadata": {
    "id": "sTLxdx7QbIuR"
   },
   "source": [
    "This plot allows you to quickly scan your data at many different time scales (week and full) and for different kinds of measurements (heart rate and weight), which enables easy and fast data exploration.\n",
    "\n",
    "Furthermore, the smoothness parameter makes it easy to look for patterns in long-term trends."
   ]
  },
  {
   "cell_type": "markdown",
   "metadata": {
    "id": "4gr_LPn8b2tN"
   },
   "source": [
    "# 7. Advanced Visualization\n",
    "\n",
    "Now we'll do some more advanced plotting that at times features hardcore matplotlib hacking with the benefit of aesthetic quality."
   ]
  },
  {
   "cell_type": "markdown",
   "metadata": {
    "id": "LCiSRYkNtmJU"
   },
   "source": [
    "## 7.1 Calorie Consumption Breakdown"
   ]
  },
  {
   "cell_type": "markdown",
   "metadata": {
    "id": "WvUWBY4NttDK"
   },
   "source": [
    "Cronometer App is particularly known for its meal tracking features. If a user went onto their Trends, they will be able to see a day-wise calorie breakdown like the one shown below."
   ]
  },
  {
   "cell_type": "markdown",
   "metadata": {
    "id": "UGVFVuPJtvc0"
   },
   "source": [
    "<img src=\"https://i.imgur.com/Dl2V9wl.jpg\" width='500px'>"
   ]
  },
  {
   "cell_type": "markdown",
   "metadata": {
    "id": "Ksg25qDWxs5V"
   },
   "source": [
    "*Above is a plot from the mobile app itself!*"
   ]
  },
  {
   "cell_type": "markdown",
   "metadata": {
    "id": "MgEJedu-uF4g"
   },
   "source": [
    "This is a detailed breakdown which shows a user how many kilocalories they are consuming in Proteins, Carbohydrates, Fats and Alcohols. <br><br>\n",
    "\n",
    "The Cronometer API also gave us access to the participants daily nutrition data. This would enable us to exactly re-create this chart using Python."
   ]
  },
  {
   "cell_type": "code",
   "execution_count": 18,
   "metadata": {
    "id": "5Ao0hzVKtOH_"
   },
   "outputs": [],
   "source": [
    "#@title Enter the Start Date\n",
    "\n",
    "year_string = '2022' #@param {type:\"string\"}\n",
    "month_string = '07' #@param {type:\"string\"}\n",
    "day_string = '20' #@param{type:\"string\"}\n",
    "\n",
    "start_date = year_string+'-'+month_string+'-'+day_string\n"
   ]
  },
  {
   "cell_type": "code",
   "execution_count": 19,
   "metadata": {
    "cellView": "form",
    "colab": {
     "base_uri": "https://localhost:8080/",
     "height": 0
    },
    "id": "b3ogofJ4wxac",
    "outputId": "d933da40-cd90-47ed-e6df-89ea99a728b6"
   },
   "outputs": [
    {
     "data": {
      "image/png": "[encoded data removed]",
      "text/plain": [
       "<Figure size 700x1000 with 1 Axes>"
      ]
     },
     "metadata": {},
     "output_type": "display_data"
    }
   ],
   "source": [
    "\n",
    "#@title Enter the End Date and plotting\n",
    "\n",
    "year_string = '2022' #@param {type:\"string\"}\n",
    "month_string = '07' #@param {type:\"string\"}\n",
    "day_string = '27' #@param{type:\"string\"}\n",
    "\n",
    "end_date = year_string+'-'+month_string+'-'+day_string\n",
    "\n",
    "nutrition = dailySummary_df\n",
    "test = nutrition[nutrition.get('Date')>=start_date].get(['Date','Carbs (g)','Fat (g)','Protein (g)','Alcohol (g)','Energy (kcal)'])\n",
    "test = test[test.get('Date')<=end_date]\n",
    "\n",
    "def date_fixer(date):\n",
    "  # Creating a date time object for the date\n",
    "  date = datetime.strptime(date,'%Y-%m-%d')\n",
    "  # Returning the date in the required format\n",
    "  return str(date.strftime(\"%B\"))[:3]+' '+str(date.day)\n",
    "\n",
    "# Fixing the Date Values for the xticks in our chart\n",
    "test = test.assign(Date_formatted = test.get('Date').apply(lambda x: \n",
    "                        date_fixer(x).split()[1]+' '+date_fixer(x).split()[0]))\n",
    "\n",
    "# 1g Carbs is equal to 4 kcal\n",
    "test = test.assign(Carbs = test.get('Carbs (g)')*4)\n",
    "\n",
    "# 1g Proteins is equal to 4 kcal\n",
    "test = test.assign(Protein = test.get('Protein (g)')*4)\n",
    "\n",
    "# 1g Fats is equal to 9 kcal\n",
    "test = test.assign(Fat = test.get('Fat (g)')*9)\n",
    "\n",
    "# 1g Alcohol is equal to 7 kcal\n",
    "test = test.assign(Alcohol = test.get('Alcohol (g)')*7)\n",
    "\n",
    "# Creating a matplotlib plot of size 16,8 \n",
    "fig3 = plt.figure(figsize=(7,10),facecolor='#1C1D21')\n",
    "ax = fig3.gca()\n",
    "ax.set_facecolor('#1C1D21')\n",
    "ax.set_axisbelow(True)\n",
    "\n",
    "# Remove the outline and set background color\n",
    "ax.set_axisbelow(True)\n",
    "ax.spines['top'].set_visible(False)\n",
    "ax.spines['bottom'].set_visible(False)\n",
    "ax.spines['right'].set_visible(False)\n",
    "ax.spines['left'].set_visible(False)\n",
    "ax.set_facecolor('none')  # Set the axes background color\n",
    "\n",
    "\n",
    "# Adding header to the chart\n",
    "header_text = (test.iloc[0].get('Date_formatted')+', '+\n",
    "              test.iloc[-1].get('Date').split('-')[0]+' - '+\n",
    "              test.iloc[-1].get('Date_formatted')+', '+\n",
    "              test.iloc[0].get('Date').split('-')[0])\n",
    "plt.title('Energy Consumed (kcal)',y=1.06, color='white',fontsize=24)\n",
    "plt.suptitle(header_text,y=0.92, color='white',fontsize=16)\n",
    "\n",
    "# Setting grid\n",
    "plt.grid(axis='y', linewidth=2)\n",
    "plt.grid(axis='x', color=\"#a1a1a1\", linestyle='-', linewidth=0, alpha=0.2)\n",
    "\n",
    "\n",
    "# Plotting the values for Fats\n",
    "plt.bar(test.get('Date'),test.get('Fat'), color='#DB4B44', width=0.6,edgecolor=\"none\")\n",
    "\n",
    "# Plotting the values for Carbohydrates\n",
    "plt.bar(test.dropna().get('Date'),test.dropna().get('Carbs'),color='#529BE3',\n",
    "        width=0.6, bottom = list(test.dropna().get('Fat')),edgecolor=\"none\")\n",
    "\n",
    "# Plotting the values for Protein\n",
    "plt.bar(test.dropna().get('Date'),test.dropna().get('Protein'),color='#5C9851',\n",
    "        width=0.6, bottom = [l+w for l,w in zip(test.dropna().get('Fat'),\n",
    "                                                test.dropna().get('Carbs'))],edgecolor=\"none\")\n",
    "\n",
    "# Plotting the values for Alcohol\n",
    "plt.bar(test.dropna().get('Date'),test.dropna().get('Alcohol'),color='#F2C04F',\n",
    "        width=0.6, bottom = [l+w+b for l,w,b in zip(test.dropna().get('Fat'),\n",
    "                      test.dropna().get('Carbs'),test.dropna().get('Alcohol'))],edgecolor=\"none\")\n",
    "\n",
    "\n",
    "# Setting x and y ticks\n",
    "plt.xticks(test.get('Date')[::3],list(test.get('Date_formatted'))[::3], \n",
    "           color='white', fontsize= 12)\n",
    "plt.yticks([0,250,500,750,1000,1250,1500,1750,2000,2250],\n",
    "           fontsize= 12, color='white')\n",
    "\n",
    "#Plotting the legend\n",
    "rect1 = mlines.Line2D([], [], marker=None, markersize=30, linewidth=5,\n",
    "                      color=\"#DB4B44\")\n",
    "rect2 = mlines.Line2D([], [], marker=None, markersize=30, linewidth=5,\n",
    "                      color=\"#529BE3\")\n",
    "rect3 = mlines.Line2D([], [], marker=None, markersize=30, linewidth=5,\n",
    "                      color=\"#5C9851\")\n",
    "rect4 = mlines.Line2D([], [], marker='None', markersize=30, linewidth=5,\n",
    "                      color=\"#F2C04F\")\n",
    "leg = ax.legend((rect1, rect2,rect3,rect4), (\"Fat (kcal)\", \n",
    "          \"Carbohydrates (kcal)\", \"Protein (kcal)\", \"Alcohol (kcal)\"),\n",
    "          bbox_to_anchor=(0.5,-0.2), loc=\"center\", frameon=False, ncol=2,\n",
    "          markerscale=1.5, fontsize=16 , labelspacing=1)\n",
    "\n",
    "# Setting color for all the labels to white\n",
    "for text in leg.get_texts():\n",
    "  text.set_color(\"white\")\n",
    "\n",
    "\n",
    "# Showing the chart\n",
    "plt.show()\n"
   ]
  },
  {
   "cell_type": "markdown",
   "metadata": {
    "id": "TmBGPvD4xd_T"
   },
   "source": [
    "*^ Above is a plot we created ourselves!*\n"
   ]
  },
  {
   "cell_type": "markdown",
   "metadata": {
    "id": "_KyItag2cSiF"
   },
   "source": [
    "## 7.2 Plotting the participants weight!\n",
    "\n",
    "If the participant has a weighing device that connects with Cronometer/Apple Health automatically or the user has been manually entering their weight in the Cronometer app, they can go to the Trends tab on the Cronometer app to see a graph for their weight over time. Below is a screenshot from the Cronometer app that shows a user's weight.\n",
    "\n",
    "<img src=\"https://i.imgur.com/kkqum56.jpg\" width=\"500px\">"
   ]
  },
  {
   "cell_type": "markdown",
   "metadata": {
    "id": "4A_EIgbFcnBf"
   },
   "source": [
    "*Above is a plot from the mobile app itself!*"
   ]
  },
  {
   "cell_type": "code",
   "execution_count": 20,
   "metadata": {
    "colab": {
     "base_uri": "https://localhost:8080/",
     "height": 0
    },
    "id": "Bdcn94ataXmt",
    "outputId": "d2229b21-bffd-43d8-b62a-8927ff320ea3"
   },
   "outputs": [
    {
     "data": {
      "image/png": "[encoded data removed]",
      "text/plain": [
       "<Figure size 1400x800 with 1 Axes>"
      ]
     },
     "metadata": {},
     "output_type": "display_data"
    }
   ],
   "source": [
    "#@title Set date range for the chart above\n",
    "\n",
    "start = \"2022-07-20\" #@param {type:\"date\"}\n",
    "end = \"2022-07-26\" #@param {type:\"date\"}\n",
    "\n",
    "# Creating a datetime object for the start date\n",
    "start_date = datetime.strptime(start,'%Y-%m-%d')\n",
    "start_date_string =(str(start_date.strftime(\"%B\"))+' '+\n",
    "                    str(start_date.day)+', '+str(start_date.year))\n",
    "\n",
    "# Creating a datetime object for our end date\n",
    "end_date = datetime.strptime(end,'%Y-%m-%d')\n",
    "end_date_string =(str(end_date.strftime(\"%B\"))+' '+\n",
    "                    str(end_date.day)+', '+str(end_date.year))\n",
    "\n",
    "# Finding a list of all dates between start and end date\n",
    "dates = list(pd.date_range(start_date,end_date,freq='d'))\n",
    "dates = [datetime.strftime(d,'%Y-%m-%d') for d in dates]\n",
    "\n",
    "def date_fixer(date):\n",
    "  # Creating a date time object for the date\n",
    "  date = datetime.strptime(date,'%Y-%m-%d')\n",
    "  # Returning the date in the required format\n",
    "  return str(date.strftime(\"%B\"))[:3]+' '+str(date.day)\n",
    "\n",
    "# Getting only the weights values\n",
    "weights = biometrics_df[biometrics_df.get('Metric')=='Weight']\n",
    "\n",
    "datefixer = lambda x: datetime.strptime(x,'%Y-%m-%d')\n",
    "\n",
    "weights = weights.assign(Day=weights.get('Day').apply(datefixer))\n",
    "\n",
    "# Assigning the date_fixer function for getting the required xticks\n",
    "xticks_fixed = [date_fixer(d) for d in dates]\n",
    "\n",
    "weights = weights[weights.get('Day')>=start_date]\n",
    "weights = weights[weights.get('Day')<=end_date]\n",
    "\n",
    "weights =  weights.assign(Day=weights.get('Day').apply(lambda x: str(x)[:10]))\n",
    "\n",
    "# Initializing the figure\n",
    "fig1 = plt.figure(figsize=(14,8),facecolor='#20242A')\n",
    "ax = fig1.gca()\n",
    "ax.set_facecolor('#20242A')\n",
    "\n",
    "# Plotting the Data\n",
    "plt.plot(weights.get('Day'),weights.get('Amount'),color='#AE9EBD')\n",
    "\n",
    "# Adding grids\n",
    "plt.grid(axis=\"y\",lw=2,color='white')\n",
    "plt.grid(axis='x', alpha=0)\n",
    "\n",
    "# Setting x and y ticks\n",
    "plt.yticks(range(int(np.floor(np.min(list(weights.get('Amount'))))),\n",
    "         int(np.ceil(np.max(list(weights.get('Amount')))+2))),color='white',\n",
    "         fontsize = 20)\n",
    "plt.xticks(dates[::2],xticks_fixed[::2],color='white', fontsize = 20, )\n",
    "\n",
    "# Setting y limits for the graph\n",
    "plt.ylim(np.floor(np.min(list(weights.get('Amount')))),\n",
    "         np.ceil(np.max(list(weights.get('Amount')))+1))\n",
    "\n",
    "\n",
    "# Removing the spines on top, left and right\n",
    "ax.spines['top'].set_visible(False)\n",
    "ax.spines['right'].set_visible(False)\n",
    "ax.spines['left'].set_visible(False)\n",
    "ax.spines['bottom'].set_visible(False)\n",
    "\n",
    "# Adding the weight footer\n",
    "plt.text(0.175,0,'Weight',transform=fig1.transFigure, color='white',\n",
    "         horizontalalignment='center',fontsize=30,\n",
    "         family='sans-serif')\n",
    "plt.text(0.265,-0.05, start_date_string+\" - \"+end_date_string, \n",
    "         transform=fig1.transFigure, color='white',horizontalalignment='center'\n",
    "         ,fontsize=20, fontweight=550, family='sans-serif')\n",
    "# Displaying the graph\n",
    "plt.show()"
   ]
  },
  {
   "cell_type": "markdown",
   "metadata": {
    "id": "oigDYwG4hfzM"
   },
   "source": [
    "*^ Above is a plot we created ourselves!*"
   ]
  },
  {
   "cell_type": "markdown",
   "metadata": {
    "id": "Hz3gqRAMhntc"
   },
   "source": [
    "## 7.3 Plotting participants Workout Minutes"
   ]
  },
  {
   "cell_type": "markdown",
   "metadata": {
    "id": "zfdtJ5KaibQS"
   },
   "source": [
    "If the participant wears an Apple Watch or uses another compatible device, they can go onto the Fitness App to find their average workout minutes in a chart like the one below."
   ]
  },
  {
   "cell_type": "markdown",
   "metadata": {
    "id": "ENYyEkDUid2t"
   },
   "source": [
    "<img src=\"https://i.imgur.com/fmwCGoj.jpg\">"
   ]
  },
  {
   "cell_type": "markdown",
   "metadata": {
    "id": "b5ek0Bd4t1uy"
   },
   "source": [
    "*Above is a plot from the mobile app itself!*"
   ]
  },
  {
   "cell_type": "markdown",
   "metadata": {
    "id": "iOQCkIAoih02"
   },
   "source": [
    "As cronometer automatically syncs with Apple Health, we have access to all this workout data. In this part of the notebook we will be recreating the plot above."
   ]
  },
  {
   "cell_type": "code",
   "execution_count": 21,
   "metadata": {
    "colab": {
     "base_uri": "https://localhost:8080/",
     "height": 0
    },
    "id": "d6H5WhFUoMRC",
    "outputId": "a0f512f4-2c26-40b2-eb8d-adf9a8ccb4b9"
   },
   "outputs": [
    {
     "name": "stdout",
     "output_type": "stream",
     "text": [
      "Downloading font files...\n",
      "--2023-08-24 16:54:01--  https://www.fontsquirrel.com/fonts/download/open-sans\n",
      "Resolving www.fontsquirrel.com (www.fontsquirrel.com)... "
     ]
    },
    {
     "name": "stderr",
     "output_type": "stream",
     "text": [
      "/var/folders/4q/pymtr0qd38d5nlrw_myxq5r00000gn/T/ipykernel_6582/2675533094.py:19: FutureWarning: The default value of numeric_only in DataFrameGroupBy.sum is deprecated. In a future version, numeric_only will default to False. Either specify numeric_only or select only columns which should be valid for the function.\n",
      "  exercises_grouped = exercises_df[exercises_df.get('Exercise')!=\"Active Energy Balance (Apple Health)\"].groupby('Day').sum()\n"
     ]
    },
    {
     "name": "stdout",
     "output_type": "stream",
     "text": [
      "2600:3c03::f03c:91ff:fe37:ba29, 45.79.150.110\n",
      "Connecting to www.fontsquirrel.com (www.fontsquirrel.com)|2600:3c03::f03c:91ff:fe37:ba29|:443... connected.\n",
      "HTTP request sent, awaiting response... 200 OK\n",
      "Length: 1215743 (1.2M) [application/octet-stream]\n",
      "Saving to: 'open-sans.31'\n",
      "\n",
      "open-sans.31        100%[===================>]   1.16M   846KB/s    in 1.4s    \n",
      "\n",
      "2023-08-24 16:54:03 (846 KB/s) - 'open-sans.31' saved [1215743/1215743]\n",
      "\n",
      "unzip:  cannot find or open open-sans.zip, open-sans.zip.zip or open-sans.zip.ZIP.\n",
      "mv: rename OpenSans-Regular.ttf to /fonts/truetype/: No such file or directory\n",
      "mv: rename OpenSans-Light.ttf to /fonts/truetype/: No such file or directory\n",
      "mv: rename OpenSans-Semibold.ttf to /fonts/truetype/: No such file or directory\n",
      "mv: rename OpenSans-Bold.ttf to /fonts/truetype/: No such file or directory\n",
      "mv: rename OpenSans-ExtraBold.ttf to /fonts/truetype/: No such file or directory\n"
     ]
    },
    {
     "data": {
      "image/png": "[encoded data removed]",
      "text/plain": [
       "<Figure size 1400x800 with 1 Axes>"
      ]
     },
     "metadata": {},
     "output_type": "display_data"
    }
   ],
   "source": [
    "#@title Set date range for the chart above\n",
    "\n",
    "start_date = \"2022-07-01\" #@param {type:\"date\"}\n",
    "end_date = \"2022-07-30\" #@param {type:\"date\"}\n",
    "\n",
    "# The next line creates the date header for the chart\n",
    "date_range_text= (str(datetime.strptime(start_date,'%Y-%m-%d').day)+\n",
    "                  ' '+datetime.strptime(start_date,'%Y-%m-%d').strftime(\"%B\")+\n",
    "                  ' - '+str(datetime.strptime(end_date,'%Y-%m-%d').day)+' '+\n",
    "                  datetime.strptime(end_date,'%Y-%m-%d').strftime(\"%B\"))\n",
    "\n",
    "def date_fixer(date):\n",
    "  # Creating a date time object for the date\n",
    "  date = datetime.strptime(date,'%Y-%m-%d')\n",
    "  # Returning the date in the required format\n",
    "  return str(date.strftime(\"%B\"))[:3]+' '+str(date.day)\n",
    "\n",
    "exercises_df = pd.DataFrame.from_dict(exercises)\n",
    "exercises_grouped = exercises_df[exercises_df.get('Exercise')!=\"Active Energy Balance (Apple Health)\"].groupby('Day').sum()\n",
    "\n",
    "start_date = datetime.strptime(start_date,'%Y-%m-%d')\n",
    "end_date = datetime.strptime(end_date,'%Y-%m-%d')\n",
    "\n",
    "dates = list(pd.date_range(start_date,end_date,freq='d'))\n",
    "dates = [datetime.strftime(d,'%Y-%m-%d') for d in dates]\n",
    "exercises_grouped = exercises_grouped.reset_index()\n",
    "exercises_grouped = exercises_grouped.assign(Day_cleaned=exercises_grouped.get('Day').apply(datefixer))\n",
    "\n",
    "# Assigning the date_fixer function for getting the required xticks\n",
    "xticks_fixed = [date_fixer(d) for d in dates]\n",
    "\n",
    "\n",
    "exercises_grouped = exercises_grouped[exercises_grouped.get('Day_cleaned')>=start_date]\n",
    "exercises_grouped = exercises_grouped[exercises_grouped.get('Day_cleaned')<=end_date]\n",
    "\n",
    "exercises_grouped = exercises_grouped.set_index('Day')\n",
    "\n",
    "font_files = [\n",
    "    \"OpenSans-Regular.ttf\",\n",
    "    \"OpenSans-Light.ttf\",\n",
    "    \"OpenSans-Semibold.ttf\",\n",
    "    \"OpenSans-Bold.ttf\",\n",
    "    \"OpenSans-ExtraBold.ttf\"\n",
    "]\n",
    "\n",
    "font_directory = \"/fonts/truetype/\"\n",
    "font_url = \"https://www.fontsquirrel.com/fonts/download/open-sans\"\n",
    "\n",
    "# Check if the font files already exist\n",
    "missing_fonts = [font_file for font_file in font_files if not os.path.exists(os.path.join(font_directory, font_file))]\n",
    "\n",
    "if missing_fonts:\n",
    "    print(\"Downloading font files...\")\n",
    "    !wget {font_url}\n",
    "    !unzip -o open-sans.zip\n",
    "    \n",
    "    # Move the font files only if they are missing\n",
    "    for font_file in font_files:\n",
    "        font_path = font_file\n",
    "        if os.path.exists(font_path):\n",
    "            !mv -f {font_path} {font_directory}\n",
    "else:\n",
    "    print(\"Font files already exist, skipping download.\")\n",
    "\n",
    "\n",
    "# Initializing the figure\n",
    "plt2 = plt.figure(figsize=(14,8),facecolor='#000000')\n",
    "ax = plt2.gca()\n",
    "ax.set_facecolor('#000000')\n",
    "ax.yaxis.tick_right()\n",
    "ax.set_axisbelow(True)\n",
    "\n",
    "# Remove the outline and set background color\n",
    "ax.set_axisbelow(True)\n",
    "ax.spines['top'].set_visible(False)\n",
    "ax.spines['bottom'].set_visible(False)\n",
    "ax.spines['right'].set_visible(False)\n",
    "ax.spines['left'].set_visible(False)\n",
    "ax.set_facecolor('none')  # Set the axes background color\n",
    "\n",
    "# Chart mean\n",
    "chart_mean = int(exercises_grouped.get('Minutes').mean())\n",
    "\n",
    "# Creating grid lines\n",
    "plt.grid(axis = 'x',color=\"#a1a1a1\", linestyle='--', linewidth=2, alpha = 0.2)\n",
    "plt.grid(axis = 'y',color=\"#a1a1a1\", linestyle='-', linewidth=2, alpha = 0.2)\n",
    "\n",
    "# Plotting the chart\n",
    "plt.bar(exercises_grouped.index, exercises_grouped.get('Minutes'), width=0.4, \n",
    "        color='#2C2C2E', joinstyle='round', edgecolor=\"none\")\n",
    "\n",
    "plt.axhline(y=int(exercises_grouped.get('Minutes').mean()), xmin=0.1, \n",
    "            linewidth=7,xmax= 0.9, color='#FF5810',solid_capstyle='round')\n",
    "\n",
    "# Adding Heart header\n",
    "\n",
    "openSansBold = 'OpenSans-Bold.ttf'\n",
    "opensans_bold = fm.FontProperties(fname=openSansBold, size= 18, weight='bold')\n",
    "opensans_bold_heading = fm.FontProperties(fname=openSansBold, size= 36, weight='bold')\n",
    "\n",
    "\n",
    "openSansExtraBold = 'OpenSans-ExtraBold.ttf'\n",
    "opensans_ebold = fm.FontProperties(fname=openSansExtraBold, size= 16, weight=500)\n",
    "\n",
    "find_tens = lambda start, end: [i for i in range(int(start), int(end)+1) if i % 50 == 0]\n",
    "# Setting x and y ticks\n",
    "yticks = find_tens(0,max(exercises_grouped.get('Minutes')+50))\n",
    "plt.yticks(yticks, color='white',fontsize=16, fontweight=600,\n",
    "           alpha=0.3, fontproperties=opensans_bold)\n",
    "plt.xticks(exercises_grouped.index[2::4],\n",
    "           [d.split('-')[2].strip('0') for d in list(exercises_grouped.index)][2::4],\n",
    "           color='white',fontsize=16, fontweight=600,\n",
    "           alpha=0.3, fontproperties=opensans_bold)\n",
    "plt.text(0.79,chart_mean/yticks[-1]+0.07,str(chart_mean)+' min',\n",
    "         fontsize=20,transform=plt2.transFigure, \n",
    "         horizontalalignment='center', color = '#FF5810', fontproperties=opensans_bold)\n",
    "\n",
    "\n",
    "plt.text(0.173,1,\"AVERAGE\",fontsize=16,color='#89898B',transform=plt2.transFigure,\n",
    "         horizontalalignment='center', fontproperties=opensans_bold)\n",
    "plt.text(0.15,0.94,str(chart_mean),\n",
    "         fontsize=28,transform=plt2.transFigure, \n",
    "         horizontalalignment='center', color = 'white',\n",
    "         fontproperties=opensans_bold_heading)\n",
    "plt.text(0.19,0.94,'min',fontsize=18,transform=plt2.transFigure, \n",
    "         horizontalalignment='center',color='#89898B',fontproperties=opensans_bold)\n",
    "plt.text(0.182,0.9,date_range_text,fontsize=14,color='#89898B',\n",
    "         transform=plt2.transFigure, horizontalalignment='center',\n",
    "         fontproperties=opensans_bold)\n",
    "\n",
    "# Plotting the chart\n",
    "plt.show()\n"
   ]
  },
  {
   "cell_type": "markdown",
   "metadata": {
    "id": "0V8OxkbUtxxI"
   },
   "source": [
    "*^ Above is a plot we created ourselves!*\n"
   ]
  },
  {
   "cell_type": "markdown",
   "metadata": {
    "id": "A8zVw2ynx6Z5"
   },
   "source": [
    "# 8. Data Analysis"
   ]
  },
  {
   "cell_type": "markdown",
   "metadata": {
    "id": "QxqLkxfVx9JJ"
   },
   "source": [
    "While doing some research for increasing muscle mass, I stumbled upon an [article](https://www.healthyeating.org/nutrition-topics/general/food-groups/protein) on this website called [HealthyEating](https://www.healthyeating.org) by the [Dairy Council of California](https://en.wikipedia.org/wiki/Dairy_Council_of_California). This article started with a claim that high-protein foods like meat, poultry, fish, beans and peas, eggs and nuts and seeds were also an excellent source of B vitamins. <br> <br>"
   ]
  },
  {
   "cell_type": "markdown",
   "metadata": {
    "id": "0wIQX5FwzikF"
   },
   "source": [
    "In this portion of the notebook, we will see if there is a general correlation between a food's protein makeup and these given nutrients. <br><br>\n",
    "Before beginning this experiment, let's replot our servings dataset which contains all the food items logged into the Cronometer app."
   ]
  },
  {
   "cell_type": "code",
   "execution_count": 22,
   "metadata": {
    "colab": {
     "base_uri": "https://localhost:8080/",
     "height": 540
    },
    "id": "ekWrWeolx0z-",
    "outputId": "0a0000b9-544d-48f4-d7ca-215a46dc98e3"
   },
   "outputs": [
    {
     "data": {
      "text/html": [
       "<div>\n",
       "<style scoped>\n",
       "    .dataframe tbody tr th:only-of-type {\n",
       "        vertical-align: middle;\n",
       "    }\n",
       "\n",
       "    .dataframe tbody tr th {\n",
       "        vertical-align: top;\n",
       "    }\n",
       "\n",
       "    .dataframe thead th {\n",
       "        text-align: right;\n",
       "    }\n",
       "</style>\n",
       "<table border=\"1\" class=\"dataframe\">\n",
       "  <thead>\n",
       "    <tr style=\"text-align: right;\">\n",
       "      <th></th>\n",
       "      <th>Day</th>\n",
       "      <th>Food Name</th>\n",
       "      <th>Amount</th>\n",
       "      <th>Energy (kcal)</th>\n",
       "      <th>Alcohol (g)</th>\n",
       "      <th>Caffeine (mg)</th>\n",
       "      <th>Water (g)</th>\n",
       "      <th>B1 (Thiamine) (mg)</th>\n",
       "      <th>B2 (Riboflavin) (mg)</th>\n",
       "      <th>B3 (Niacin) (mg)</th>\n",
       "      <th>...</th>\n",
       "      <th>Leucine (g)</th>\n",
       "      <th>Lysine (g)</th>\n",
       "      <th>Methionine (g)</th>\n",
       "      <th>Phenylalanine (g)</th>\n",
       "      <th>Protein (g)</th>\n",
       "      <th>Threonine (g)</th>\n",
       "      <th>Tryptophan (g)</th>\n",
       "      <th>Tyrosine (g)</th>\n",
       "      <th>Valine (g)</th>\n",
       "      <th>Category</th>\n",
       "    </tr>\n",
       "  </thead>\n",
       "  <tbody>\n",
       "    <tr>\n",
       "      <th>0</th>\n",
       "      <td>2022-07-20</td>\n",
       "      <td>Cheese Ravioli, with Tomato Sauce</td>\n",
       "      <td>1.00 cup, whole pieces</td>\n",
       "      <td>327.16</td>\n",
       "      <td>0.0</td>\n",
       "      <td>0.0</td>\n",
       "      <td>177.16</td>\n",
       "      <td>0.49</td>\n",
       "      <td>0.52</td>\n",
       "      <td>3.35</td>\n",
       "      <td>...</td>\n",
       "      <td>0.99</td>\n",
       "      <td>0.79</td>\n",
       "      <td>0.26</td>\n",
       "      <td>0.59</td>\n",
       "      <td>12.78</td>\n",
       "      <td>0.46</td>\n",
       "      <td>0.14</td>\n",
       "      <td>0.47</td>\n",
       "      <td>0.61</td>\n",
       "      <td>Cereal Grains and Pasta</td>\n",
       "    </tr>\n",
       "    <tr>\n",
       "      <th>1</th>\n",
       "      <td>2022-07-20</td>\n",
       "      <td>Mango, Fresh</td>\n",
       "      <td>2.00 each</td>\n",
       "      <td>403.20</td>\n",
       "      <td>0.0</td>\n",
       "      <td>0.0</td>\n",
       "      <td>560.85</td>\n",
       "      <td>0.19</td>\n",
       "      <td>0.26</td>\n",
       "      <td>4.50</td>\n",
       "      <td>...</td>\n",
       "      <td>0.34</td>\n",
       "      <td>0.44</td>\n",
       "      <td>0.05</td>\n",
       "      <td>0.18</td>\n",
       "      <td>5.51</td>\n",
       "      <td>0.21</td>\n",
       "      <td>0.09</td>\n",
       "      <td>0.11</td>\n",
       "      <td>0.28</td>\n",
       "      <td>Fruits and Fruit Juices</td>\n",
       "    </tr>\n",
       "    <tr>\n",
       "      <th>2</th>\n",
       "      <td>2022-07-20</td>\n",
       "      <td>Scrambled Egg, Plain</td>\n",
       "      <td>3.00 unknown size egg used - 1 whole egg or 2 ...</td>\n",
       "      <td>315.06</td>\n",
       "      <td>0.0</td>\n",
       "      <td>0.0</td>\n",
       "      <td>156.14</td>\n",
       "      <td>0.12</td>\n",
       "      <td>0.86</td>\n",
       "      <td>0.14</td>\n",
       "      <td>...</td>\n",
       "      <td>1.76</td>\n",
       "      <td>1.48</td>\n",
       "      <td>0.63</td>\n",
       "      <td>1.08</td>\n",
       "      <td>20.38</td>\n",
       "      <td>0.97</td>\n",
       "      <td>0.25</td>\n",
       "      <td>0.85</td>\n",
       "      <td>1.25</td>\n",
       "      <td>Dairy and Egg Products</td>\n",
       "    </tr>\n",
       "    <tr>\n",
       "      <th>3</th>\n",
       "      <td>2022-07-20</td>\n",
       "      <td>Whole Wheat Bread, Store Bought</td>\n",
       "      <td>2.00 medium slice</td>\n",
       "      <td>181.44</td>\n",
       "      <td>0.0</td>\n",
       "      <td>0.0</td>\n",
       "      <td>28.09</td>\n",
       "      <td>0.28</td>\n",
       "      <td>0.12</td>\n",
       "      <td>3.20</td>\n",
       "      <td>...</td>\n",
       "      <td>0.29</td>\n",
       "      <td>0.12</td>\n",
       "      <td>0.07</td>\n",
       "      <td>0.20</td>\n",
       "      <td>8.96</td>\n",
       "      <td>0.12</td>\n",
       "      <td>0.07</td>\n",
       "      <td>0.13</td>\n",
       "      <td>0.20</td>\n",
       "      <td>Baked Products</td>\n",
       "    </tr>\n",
       "    <tr>\n",
       "      <th>4</th>\n",
       "      <td>2022-07-20</td>\n",
       "      <td>Butter, Salted</td>\n",
       "      <td>1.00 pat - 1\" square x 1/3\" high</td>\n",
       "      <td>33.91</td>\n",
       "      <td>0.0</td>\n",
       "      <td>0.0</td>\n",
       "      <td>0.75</td>\n",
       "      <td>0.00</td>\n",
       "      <td>0.00</td>\n",
       "      <td>0.00</td>\n",
       "      <td>...</td>\n",
       "      <td>0.00</td>\n",
       "      <td>0.00</td>\n",
       "      <td>0.00</td>\n",
       "      <td>0.00</td>\n",
       "      <td>0.04</td>\n",
       "      <td>0.00</td>\n",
       "      <td>0.00</td>\n",
       "      <td>0.00</td>\n",
       "      <td>0.00</td>\n",
       "      <td>Fats and Oils</td>\n",
       "    </tr>\n",
       "  </tbody>\n",
       "</table>\n",
       "<p>5 rows × 55 columns</p>\n",
       "</div>"
      ],
      "text/plain": [
       "          Day                          Food Name  \\\n",
       "0  2022-07-20  Cheese Ravioli, with Tomato Sauce   \n",
       "1  2022-07-20                       Mango, Fresh   \n",
       "2  2022-07-20               Scrambled Egg, Plain   \n",
       "3  2022-07-20    Whole Wheat Bread, Store Bought   \n",
       "4  2022-07-20                     Butter, Salted   \n",
       "\n",
       "                                              Amount  Energy (kcal)  \\\n",
       "0                             1.00 cup, whole pieces         327.16   \n",
       "1                                          2.00 each         403.20   \n",
       "2  3.00 unknown size egg used - 1 whole egg or 2 ...         315.06   \n",
       "3                                  2.00 medium slice         181.44   \n",
       "4                   1.00 pat - 1\" square x 1/3\" high          33.91   \n",
       "\n",
       "   Alcohol (g)  Caffeine (mg)  Water (g)  B1 (Thiamine) (mg)  \\\n",
       "0          0.0            0.0     177.16                0.49   \n",
       "1          0.0            0.0     560.85                0.19   \n",
       "2          0.0            0.0     156.14                0.12   \n",
       "3          0.0            0.0      28.09                0.28   \n",
       "4          0.0            0.0       0.75                0.00   \n",
       "\n",
       "   B2 (Riboflavin) (mg)  B3 (Niacin) (mg)  ...  Leucine (g)  Lysine (g)  \\\n",
       "0                  0.52              3.35  ...         0.99        0.79   \n",
       "1                  0.26              4.50  ...         0.34        0.44   \n",
       "2                  0.86              0.14  ...         1.76        1.48   \n",
       "3                  0.12              3.20  ...         0.29        0.12   \n",
       "4                  0.00              0.00  ...         0.00        0.00   \n",
       "\n",
       "   Methionine (g)  Phenylalanine (g)  Protein (g)  Threonine (g)  \\\n",
       "0            0.26               0.59        12.78           0.46   \n",
       "1            0.05               0.18         5.51           0.21   \n",
       "2            0.63               1.08        20.38           0.97   \n",
       "3            0.07               0.20         8.96           0.12   \n",
       "4            0.00               0.00         0.04           0.00   \n",
       "\n",
       "   Tryptophan (g)  Tyrosine (g)  Valine (g)                 Category  \n",
       "0            0.14          0.47        0.61  Cereal Grains and Pasta  \n",
       "1            0.09          0.11        0.28  Fruits and Fruit Juices  \n",
       "2            0.25          0.85        1.25   Dairy and Egg Products  \n",
       "3            0.07          0.13        0.20           Baked Products  \n",
       "4            0.00          0.00        0.00            Fats and Oils  \n",
       "\n",
       "[5 rows x 55 columns]"
      ]
     },
     "execution_count": 22,
     "metadata": {},
     "output_type": "execute_result"
    }
   ],
   "source": [
    "servings_df.head()"
   ]
  },
  {
   "cell_type": "markdown",
   "metadata": {
    "id": "O92v86AcznDn"
   },
   "source": [
    "This current Data Frame has 55 columns, let's shorted it down to the columns that we specifically require in our analysis."
   ]
  },
  {
   "cell_type": "code",
   "execution_count": 23,
   "metadata": {
    "colab": {
     "base_uri": "https://localhost:8080/",
     "height": 206
    },
    "id": "k6IDpA25zabv",
    "outputId": "67cc9c0f-452b-4e02-ca9d-9216d9323b38"
   },
   "outputs": [
    {
     "data": {
      "text/html": [
       "<div>\n",
       "<style scoped>\n",
       "    .dataframe tbody tr th:only-of-type {\n",
       "        vertical-align: middle;\n",
       "    }\n",
       "\n",
       "    .dataframe tbody tr th {\n",
       "        vertical-align: top;\n",
       "    }\n",
       "\n",
       "    .dataframe thead th {\n",
       "        text-align: right;\n",
       "    }\n",
       "</style>\n",
       "<table border=\"1\" class=\"dataframe\">\n",
       "  <thead>\n",
       "    <tr style=\"text-align: right;\">\n",
       "      <th></th>\n",
       "      <th>Day</th>\n",
       "      <th>Protein (g)</th>\n",
       "      <th>B1 (Thiamine) (mg)</th>\n",
       "      <th>B2 (Riboflavin) (mg)</th>\n",
       "      <th>B3 (Niacin) (mg)</th>\n",
       "      <th>B5 (Pantothenic Acid) (mg)</th>\n",
       "      <th>B6 (Pyridoxine) (mg)</th>\n",
       "      <th>B12 (Cobalamin) (µg)</th>\n",
       "    </tr>\n",
       "  </thead>\n",
       "  <tbody>\n",
       "    <tr>\n",
       "      <th>0</th>\n",
       "      <td>2022-07-20</td>\n",
       "      <td>12.78</td>\n",
       "      <td>0.49</td>\n",
       "      <td>0.52</td>\n",
       "      <td>3.35</td>\n",
       "      <td>0.88</td>\n",
       "      <td>0.21</td>\n",
       "      <td>0.74</td>\n",
       "    </tr>\n",
       "    <tr>\n",
       "      <th>1</th>\n",
       "      <td>2022-07-20</td>\n",
       "      <td>5.51</td>\n",
       "      <td>0.19</td>\n",
       "      <td>0.26</td>\n",
       "      <td>4.50</td>\n",
       "      <td>1.32</td>\n",
       "      <td>0.80</td>\n",
       "      <td>0.00</td>\n",
       "    </tr>\n",
       "    <tr>\n",
       "      <th>2</th>\n",
       "      <td>2022-07-20</td>\n",
       "      <td>20.38</td>\n",
       "      <td>0.12</td>\n",
       "      <td>0.86</td>\n",
       "      <td>0.14</td>\n",
       "      <td>2.26</td>\n",
       "      <td>0.60</td>\n",
       "      <td>3.07</td>\n",
       "    </tr>\n",
       "    <tr>\n",
       "      <th>3</th>\n",
       "      <td>2022-07-20</td>\n",
       "      <td>8.96</td>\n",
       "      <td>0.28</td>\n",
       "      <td>0.12</td>\n",
       "      <td>3.20</td>\n",
       "      <td>0.47</td>\n",
       "      <td>0.15</td>\n",
       "      <td>0.00</td>\n",
       "    </tr>\n",
       "    <tr>\n",
       "      <th>4</th>\n",
       "      <td>2022-07-20</td>\n",
       "      <td>0.04</td>\n",
       "      <td>0.00</td>\n",
       "      <td>0.00</td>\n",
       "      <td>0.00</td>\n",
       "      <td>0.01</td>\n",
       "      <td>0.00</td>\n",
       "      <td>0.01</td>\n",
       "    </tr>\n",
       "  </tbody>\n",
       "</table>\n",
       "</div>"
      ],
      "text/plain": [
       "          Day  Protein (g)  B1 (Thiamine) (mg)  B2 (Riboflavin) (mg)  \\\n",
       "0  2022-07-20        12.78                0.49                  0.52   \n",
       "1  2022-07-20         5.51                0.19                  0.26   \n",
       "2  2022-07-20        20.38                0.12                  0.86   \n",
       "3  2022-07-20         8.96                0.28                  0.12   \n",
       "4  2022-07-20         0.04                0.00                  0.00   \n",
       "\n",
       "   B3 (Niacin) (mg)  B5 (Pantothenic Acid) (mg)  B6 (Pyridoxine) (mg)  \\\n",
       "0              3.35                        0.88                  0.21   \n",
       "1              4.50                        1.32                  0.80   \n",
       "2              0.14                        2.26                  0.60   \n",
       "3              3.20                        0.47                  0.15   \n",
       "4              0.00                        0.01                  0.00   \n",
       "\n",
       "   B12 (Cobalamin) (µg)  \n",
       "0                  0.74  \n",
       "1                  0.00  \n",
       "2                  3.07  \n",
       "3                  0.00  \n",
       "4                  0.01  "
      ]
     },
     "execution_count": 23,
     "metadata": {},
     "output_type": "execute_result"
    }
   ],
   "source": [
    "servings_cleaned = servings_df.get(['Day','Protein (g)','B1 (Thiamine) (mg)',\n",
    "       'B2 (Riboflavin) (mg)', 'B3 (Niacin) (mg)',\n",
    "       'B5 (Pantothenic Acid) (mg)', 'B6 (Pyridoxine) (mg)',\n",
    "       'B12 (Cobalamin) (µg)']).dropna()\n",
    "\n",
    "servings_cleaned.head()"
   ]
  },
  {
   "cell_type": "markdown",
   "metadata": {
    "id": "tk2dTiGBzywQ"
   },
   "source": [
    "As we there are multiple versions of Vitamin Bs, let's aggregate them into a single column with the sum of all Vitamin Bs."
   ]
  },
  {
   "cell_type": "code",
   "execution_count": 24,
   "metadata": {
    "colab": {
     "base_uri": "https://localhost:8080/",
     "height": 206
    },
    "id": "NDdm0kD2zoL3",
    "outputId": "49be094f-dc0c-45cc-d758-4a93106f5c16"
   },
   "outputs": [
    {
     "data": {
      "text/html": [
       "<div>\n",
       "<style scoped>\n",
       "    .dataframe tbody tr th:only-of-type {\n",
       "        vertical-align: middle;\n",
       "    }\n",
       "\n",
       "    .dataframe tbody tr th {\n",
       "        vertical-align: top;\n",
       "    }\n",
       "\n",
       "    .dataframe thead th {\n",
       "        text-align: right;\n",
       "    }\n",
       "</style>\n",
       "<table border=\"1\" class=\"dataframe\">\n",
       "  <thead>\n",
       "    <tr style=\"text-align: right;\">\n",
       "      <th></th>\n",
       "      <th>Day</th>\n",
       "      <th>Protein (g)</th>\n",
       "      <th>B1 (Thiamine) (mg)</th>\n",
       "      <th>B2 (Riboflavin) (mg)</th>\n",
       "      <th>B3 (Niacin) (mg)</th>\n",
       "      <th>B5 (Pantothenic Acid) (mg)</th>\n",
       "      <th>B6 (Pyridoxine) (mg)</th>\n",
       "      <th>B12 (Cobalamin) (µg)</th>\n",
       "      <th>Vitamin_B</th>\n",
       "    </tr>\n",
       "  </thead>\n",
       "  <tbody>\n",
       "    <tr>\n",
       "      <th>0</th>\n",
       "      <td>2022-07-20</td>\n",
       "      <td>12.78</td>\n",
       "      <td>0.49</td>\n",
       "      <td>0.52</td>\n",
       "      <td>3.35</td>\n",
       "      <td>0.88</td>\n",
       "      <td>0.21</td>\n",
       "      <td>0.74</td>\n",
       "      <td>6.19</td>\n",
       "    </tr>\n",
       "    <tr>\n",
       "      <th>1</th>\n",
       "      <td>2022-07-20</td>\n",
       "      <td>5.51</td>\n",
       "      <td>0.19</td>\n",
       "      <td>0.26</td>\n",
       "      <td>4.50</td>\n",
       "      <td>1.32</td>\n",
       "      <td>0.80</td>\n",
       "      <td>0.00</td>\n",
       "      <td>7.07</td>\n",
       "    </tr>\n",
       "    <tr>\n",
       "      <th>2</th>\n",
       "      <td>2022-07-20</td>\n",
       "      <td>20.38</td>\n",
       "      <td>0.12</td>\n",
       "      <td>0.86</td>\n",
       "      <td>0.14</td>\n",
       "      <td>2.26</td>\n",
       "      <td>0.60</td>\n",
       "      <td>3.07</td>\n",
       "      <td>7.05</td>\n",
       "    </tr>\n",
       "    <tr>\n",
       "      <th>3</th>\n",
       "      <td>2022-07-20</td>\n",
       "      <td>8.96</td>\n",
       "      <td>0.28</td>\n",
       "      <td>0.12</td>\n",
       "      <td>3.20</td>\n",
       "      <td>0.47</td>\n",
       "      <td>0.15</td>\n",
       "      <td>0.00</td>\n",
       "      <td>4.22</td>\n",
       "    </tr>\n",
       "    <tr>\n",
       "      <th>4</th>\n",
       "      <td>2022-07-20</td>\n",
       "      <td>0.04</td>\n",
       "      <td>0.00</td>\n",
       "      <td>0.00</td>\n",
       "      <td>0.00</td>\n",
       "      <td>0.01</td>\n",
       "      <td>0.00</td>\n",
       "      <td>0.01</td>\n",
       "      <td>0.02</td>\n",
       "    </tr>\n",
       "  </tbody>\n",
       "</table>\n",
       "</div>"
      ],
      "text/plain": [
       "          Day  Protein (g)  B1 (Thiamine) (mg)  B2 (Riboflavin) (mg)  \\\n",
       "0  2022-07-20        12.78                0.49                  0.52   \n",
       "1  2022-07-20         5.51                0.19                  0.26   \n",
       "2  2022-07-20        20.38                0.12                  0.86   \n",
       "3  2022-07-20         8.96                0.28                  0.12   \n",
       "4  2022-07-20         0.04                0.00                  0.00   \n",
       "\n",
       "   B3 (Niacin) (mg)  B5 (Pantothenic Acid) (mg)  B6 (Pyridoxine) (mg)  \\\n",
       "0              3.35                        0.88                  0.21   \n",
       "1              4.50                        1.32                  0.80   \n",
       "2              0.14                        2.26                  0.60   \n",
       "3              3.20                        0.47                  0.15   \n",
       "4              0.00                        0.01                  0.00   \n",
       "\n",
       "   B12 (Cobalamin) (µg)  Vitamin_B  \n",
       "0                  0.74       6.19  \n",
       "1                  0.00       7.07  \n",
       "2                  3.07       7.05  \n",
       "3                  0.00       4.22  \n",
       "4                  0.01       0.02  "
      ]
     },
     "execution_count": 24,
     "metadata": {},
     "output_type": "execute_result"
    }
   ],
   "source": [
    "servings_cleaned = servings_cleaned.assign(Vitamin_B = servings_cleaned.get([\n",
    "    'B1 (Thiamine) (mg)','B2 (Riboflavin) (mg)', 'B3 (Niacin) (mg)',\n",
    "    'B5 (Pantothenic Acid) (mg)', 'B6 (Pyridoxine) (mg)',\n",
    "    'B12 (Cobalamin) (µg)']).sum(axis=1))\n",
    "\n",
    "servings_cleaned.head()"
   ]
  },
  {
   "cell_type": "markdown",
   "metadata": {
    "id": "Gx7Trvvvz5Y5"
   },
   "source": [
    "For our plot, let's see if there is a visual correlation between the Protein content of a food item and their Vitamin B content. "
   ]
  },
  {
   "cell_type": "code",
   "execution_count": 25,
   "metadata": {
    "colab": {
     "base_uri": "https://localhost:8080/",
     "height": 521
    },
    "id": "lylWh7Lqz0Nc",
    "outputId": "9e6a7a9d-c465-4531-8a70-83624bba6b63"
   },
   "outputs": [
    {
     "name": "stdout",
     "output_type": "stream",
     "text": [
      "\n"
     ]
    },
    {
     "data": {
      "image/png": "[encoded data removed]",
      "text/plain": [
       "<Figure size 1600x800 with 1 Axes>"
      ]
     },
     "metadata": {},
     "output_type": "display_data"
    }
   ],
   "source": [
    "# Setting Figure Size in Seaborn\n",
    "sns.set(rc={'figure.figsize':(16,8)})\n",
    "\n",
    "# Setting Seaborn plot style\n",
    "sns.set_style(\"darkgrid\")\n",
    "\n",
    "#Plotting our data\n",
    "plot = sns.regplot(data=servings_cleaned, x='Protein (g)', y=\"Vitamin_B\")\n",
    "\n",
    "#Renaming x and y labels\n",
    "plot.set_ylabel(\"Protein (g)\", fontsize = 16)\n",
    "plot.set_xlabel(\"Vitamin Bs (mg)\", fontsize = 16)\n",
    "\n",
    "print()"
   ]
  },
  {
   "cell_type": "markdown",
   "metadata": {
    "id": "g9V_DNxz0MBW"
   },
   "source": [
    "Based on the graph, it appears that there is a positive association between the protein content and vitamin B content in food. To confirm this relationship statistically, we will utilize linear regression to determine the optimal line of fit and calculate the correlation coefficient and p-value.\n",
    "\n",
    "To perform the linear regression and obtain the correlation coefficient and p-value, you can use statistical functions from the scipy package in Python. The scipy.stats module provides functions for linear regression, correlation coefficient calculation, and p-value calculation."
   ]
  },
  {
   "cell_type": "code",
   "execution_count": 26,
   "metadata": {
    "colab": {
     "base_uri": "https://localhost:8080/"
    },
    "id": "HGGV6RIbz69B",
    "outputId": "aa718783-83ce-455a-90d1-c0bbd2f77797"
   },
   "outputs": [
    {
     "name": "stdout",
     "output_type": "stream",
     "text": [
      "Slope: 0.276\n",
      "Coefficient of determination: 0.457\n",
      "p-value: 1.32e-07\n"
     ]
    }
   ],
   "source": [
    "slope, intercept, r_value, p_value, std_err = stats.linregress(\n",
    "    servings_cleaned.get('Protein (g)'), servings_cleaned.get('Vitamin_B'))\n",
    "\n",
    "print(f'Slope: {slope:.3g}')\n",
    "print(f'Coefficient of determination: {r_value**2:.3g}')\n",
    "print(f'p-value: {p_value:.3g}')"
   ]
  },
  {
   "cell_type": "markdown",
   "metadata": {
    "id": "G6dUw6P10Oi0"
   },
   "source": [
    "The p-value is 1.32e-07 is much smaller than the 5% cutoff. This means that there is enough evidence to convincingly conclude that that there is a correlation between protein and vitamin B intake in a food item."
   ]
  },
  {
   "cell_type": "markdown",
   "metadata": {
    "id": "v7EPWmfi0hnO"
   },
   "source": [
    "## 9.0 Outlier Detection"
   ]
  },
  {
   "cell_type": "markdown",
   "metadata": {
    "id": "kHkgd9Fz0rr4"
   },
   "source": [
    "However, even though our P value seems to provide enough statistical significance that there is a correlation between Protein and Vitamin B makeup, there might be outliers that are not following this correlation. In this section of our analysis, we will find if there are outliers like that and if they exist, we will visually highlight them in our plot."
   ]
  },
  {
   "cell_type": "markdown",
   "metadata": {
    "id": "pTt7b69a0ttt"
   },
   "source": [
    "Before finding the individual outlier values, it would be interesting to see the summary of our Protein and Vitamin B intake. Analyzing a summary of our Protein and Vitamin B intake would be valuable as it provides insight into the typical values and highlights values that may be considered unusual based on the data we collected from Cronometer. The summary shows key statistical measures such as the minimum, maximum, mean, median, and standard deviation of the data, which can give us an idea of the range and distribution of the values."
   ]
  },
  {
   "cell_type": "code",
   "execution_count": 27,
   "metadata": {
    "colab": {
     "base_uri": "https://localhost:8080/",
     "height": 269
    },
    "id": "PJwt82iy0Nww",
    "outputId": "fe688d27-a3d9-42ed-aeed-ab0cc4e0bcdf"
   },
   "outputs": [
    {
     "data": {
      "text/html": [
       "<div>\n",
       "<style scoped>\n",
       "    .dataframe tbody tr th:only-of-type {\n",
       "        vertical-align: middle;\n",
       "    }\n",
       "\n",
       "    .dataframe tbody tr th {\n",
       "        vertical-align: top;\n",
       "    }\n",
       "\n",
       "    .dataframe thead th {\n",
       "        text-align: right;\n",
       "    }\n",
       "</style>\n",
       "<table border=\"1\" class=\"dataframe\">\n",
       "  <thead>\n",
       "    <tr style=\"text-align: right;\">\n",
       "      <th></th>\n",
       "      <th>Protein (g)</th>\n",
       "      <th>Vitamin_B</th>\n",
       "    </tr>\n",
       "  </thead>\n",
       "  <tbody>\n",
       "    <tr>\n",
       "      <th>mean</th>\n",
       "      <td>14.074792</td>\n",
       "      <td>6.253958</td>\n",
       "    </tr>\n",
       "    <tr>\n",
       "      <th>std</th>\n",
       "      <td>17.223218</td>\n",
       "      <td>7.019640</td>\n",
       "    </tr>\n",
       "    <tr>\n",
       "      <th>min</th>\n",
       "      <td>0.010000</td>\n",
       "      <td>0.000000</td>\n",
       "    </tr>\n",
       "    <tr>\n",
       "      <th>25%</th>\n",
       "      <td>2.020000</td>\n",
       "      <td>1.385000</td>\n",
       "    </tr>\n",
       "    <tr>\n",
       "      <th>50%</th>\n",
       "      <td>6.835000</td>\n",
       "      <td>4.220000</td>\n",
       "    </tr>\n",
       "    <tr>\n",
       "      <th>75%</th>\n",
       "      <td>22.027500</td>\n",
       "      <td>8.157500</td>\n",
       "    </tr>\n",
       "    <tr>\n",
       "      <th>max</th>\n",
       "      <td>77.080000</td>\n",
       "      <td>30.640000</td>\n",
       "    </tr>\n",
       "  </tbody>\n",
       "</table>\n",
       "</div>"
      ],
      "text/plain": [
       "      Protein (g)  Vitamin_B\n",
       "mean    14.074792   6.253958\n",
       "std     17.223218   7.019640\n",
       "min      0.010000   0.000000\n",
       "25%      2.020000   1.385000\n",
       "50%      6.835000   4.220000\n",
       "75%     22.027500   8.157500\n",
       "max     77.080000  30.640000"
      ]
     },
     "execution_count": 27,
     "metadata": {},
     "output_type": "execute_result"
    }
   ],
   "source": [
    "servings_cleaned_summary = servings_cleaned.describe().get(\n",
    "                                          ['Protein (g)','Vitamin_B']).drop('count')\n",
    "servings_cleaned_summary"
   ]
  },
  {
   "cell_type": "markdown",
   "metadata": {
    "id": "VcgDYako00pd"
   },
   "source": [
    "To locate the outliers we will be using a supervised as well as unsupervised algorithm called the Elliptic Envelope. In statistical studies, Elliptic Envelope created an imaginary elliptical area around a given dataset where values inside that imaginary area is considered to be normal data, and anything else is assumed to be outliers. It assumes that the given Data follows a gaussian distribution.\n",
    "\n",
    "\"The main idea is to define the shape of the data and anomalies are those observations that lie far outside the shape. First a robust estimate of covariance of data is fitted into an ellipse around the central mode. Then, the Mahalanobis distance that is obtained from this estimate is used to define the threshold for determining outliers or anomalies.\" [(S. Shriram and E. Sivasankar ,2019, pp. 221-225)](https://ieeexplore.ieee.org/document/9004325)"
   ]
  },
  {
   "cell_type": "code",
   "execution_count": 28,
   "metadata": {
    "colab": {
     "base_uri": "https://localhost:8080/"
    },
    "id": "VtGULFfM01oE",
    "outputId": "3be1507c-6460-4099-a170-2ce9d69fa2e9"
   },
   "outputs": [
    {
     "name": "stdout",
     "output_type": "stream",
     "text": [
      "1     47\n",
      "-1     1\n",
      "Name: outlier, dtype: int64\n"
     ]
    }
   ],
   "source": [
    "# Sometimes EllipticEnvelope shows slicing based copy warnings\n",
    "# The next line changes a setting that prevents the error from happening\n",
    "\n",
    "pd.set_option('mode.chained_assignment', None)\n",
    "\n",
    "#create the model, set the contamination as 0.02\n",
    "EE_model = EllipticEnvelope(contamination = 0.02)\n",
    "\n",
    "#implement the model on the data\n",
    "outliers = EE_model.fit_predict(servings_cleaned.get(\n",
    "                                                  ['Protein (g)','Vitamin_B']))\n",
    "\n",
    "#extract the labels\n",
    "servings_cleaned[\"outlier\"] = copy.deepcopy(outliers)\n",
    "\n",
    "#change the labels\n",
    "# We use -1 to mark an outlier and +1 for an inliner\n",
    "servings_cleaned[\"outlier\"] = servings_cleaned[\"outlier\"].apply(\n",
    "                                    lambda x: str(-1) if x == -1 else str(1))\n",
    "\n",
    "#extract the score\n",
    "servings_cleaned[\"EE_scores\"] = EE_model.score_samples(\n",
    "                      servings_cleaned.get(['Protein (g)','Vitamin_B']))\n",
    "\n",
    "#print the value counts for inlier and outliers\n",
    "print(servings_cleaned[\"outlier\"].value_counts())"
   ]
  },
  {
   "cell_type": "markdown",
   "metadata": {
    "id": "8LnIuIbn1o3L"
   },
   "source": [
    "Below we will replot the servings_cleaned_summary dataframe to see how the two new columns were applied to it!"
   ]
  },
  {
   "cell_type": "code",
   "execution_count": 29,
   "metadata": {
    "colab": {
     "base_uri": "https://localhost:8080/",
     "height": 206
    },
    "id": "MHY0xoj31Cwk",
    "outputId": "110e447b-435d-4f09-8bbf-bd55ad17e9d5"
   },
   "outputs": [
    {
     "data": {
      "text/html": [
       "<div>\n",
       "<style scoped>\n",
       "    .dataframe tbody tr th:only-of-type {\n",
       "        vertical-align: middle;\n",
       "    }\n",
       "\n",
       "    .dataframe tbody tr th {\n",
       "        vertical-align: top;\n",
       "    }\n",
       "\n",
       "    .dataframe thead th {\n",
       "        text-align: right;\n",
       "    }\n",
       "</style>\n",
       "<table border=\"1\" class=\"dataframe\">\n",
       "  <thead>\n",
       "    <tr style=\"text-align: right;\">\n",
       "      <th></th>\n",
       "      <th>Day</th>\n",
       "      <th>Protein (g)</th>\n",
       "      <th>B1 (Thiamine) (mg)</th>\n",
       "      <th>B2 (Riboflavin) (mg)</th>\n",
       "      <th>B3 (Niacin) (mg)</th>\n",
       "      <th>B5 (Pantothenic Acid) (mg)</th>\n",
       "      <th>B6 (Pyridoxine) (mg)</th>\n",
       "      <th>B12 (Cobalamin) (µg)</th>\n",
       "      <th>Vitamin_B</th>\n",
       "      <th>outlier</th>\n",
       "      <th>EE_scores</th>\n",
       "    </tr>\n",
       "  </thead>\n",
       "  <tbody>\n",
       "    <tr>\n",
       "      <th>0</th>\n",
       "      <td>2022-07-20</td>\n",
       "      <td>12.78</td>\n",
       "      <td>0.49</td>\n",
       "      <td>0.52</td>\n",
       "      <td>3.35</td>\n",
       "      <td>0.88</td>\n",
       "      <td>0.21</td>\n",
       "      <td>0.74</td>\n",
       "      <td>6.19</td>\n",
       "      <td>1</td>\n",
       "      <td>-3.792721</td>\n",
       "    </tr>\n",
       "    <tr>\n",
       "      <th>1</th>\n",
       "      <td>2022-07-20</td>\n",
       "      <td>5.51</td>\n",
       "      <td>0.19</td>\n",
       "      <td>0.26</td>\n",
       "      <td>4.50</td>\n",
       "      <td>1.32</td>\n",
       "      <td>0.80</td>\n",
       "      <td>0.00</td>\n",
       "      <td>7.07</td>\n",
       "      <td>1</td>\n",
       "      <td>-6.514642</td>\n",
       "    </tr>\n",
       "    <tr>\n",
       "      <th>2</th>\n",
       "      <td>2022-07-20</td>\n",
       "      <td>20.38</td>\n",
       "      <td>0.12</td>\n",
       "      <td>0.86</td>\n",
       "      <td>0.14</td>\n",
       "      <td>2.26</td>\n",
       "      <td>0.60</td>\n",
       "      <td>3.07</td>\n",
       "      <td>7.05</td>\n",
       "      <td>1</td>\n",
       "      <td>-16.386629</td>\n",
       "    </tr>\n",
       "    <tr>\n",
       "      <th>3</th>\n",
       "      <td>2022-07-20</td>\n",
       "      <td>8.96</td>\n",
       "      <td>0.28</td>\n",
       "      <td>0.12</td>\n",
       "      <td>3.20</td>\n",
       "      <td>0.47</td>\n",
       "      <td>0.15</td>\n",
       "      <td>0.00</td>\n",
       "      <td>4.22</td>\n",
       "      <td>1</td>\n",
       "      <td>-1.207789</td>\n",
       "    </tr>\n",
       "    <tr>\n",
       "      <th>4</th>\n",
       "      <td>2022-07-20</td>\n",
       "      <td>0.04</td>\n",
       "      <td>0.00</td>\n",
       "      <td>0.00</td>\n",
       "      <td>0.00</td>\n",
       "      <td>0.01</td>\n",
       "      <td>0.00</td>\n",
       "      <td>0.01</td>\n",
       "      <td>0.02</td>\n",
       "      <td>1</td>\n",
       "      <td>-1.573435</td>\n",
       "    </tr>\n",
       "  </tbody>\n",
       "</table>\n",
       "</div>"
      ],
      "text/plain": [
       "          Day  Protein (g)  B1 (Thiamine) (mg)  B2 (Riboflavin) (mg)  \\\n",
       "0  2022-07-20        12.78                0.49                  0.52   \n",
       "1  2022-07-20         5.51                0.19                  0.26   \n",
       "2  2022-07-20        20.38                0.12                  0.86   \n",
       "3  2022-07-20         8.96                0.28                  0.12   \n",
       "4  2022-07-20         0.04                0.00                  0.00   \n",
       "\n",
       "   B3 (Niacin) (mg)  B5 (Pantothenic Acid) (mg)  B6 (Pyridoxine) (mg)  \\\n",
       "0              3.35                        0.88                  0.21   \n",
       "1              4.50                        1.32                  0.80   \n",
       "2              0.14                        2.26                  0.60   \n",
       "3              3.20                        0.47                  0.15   \n",
       "4              0.00                        0.01                  0.00   \n",
       "\n",
       "   B12 (Cobalamin) (µg)  Vitamin_B outlier  EE_scores  \n",
       "0                  0.74       6.19       1  -3.792721  \n",
       "1                  0.00       7.07       1  -6.514642  \n",
       "2                  3.07       7.05       1 -16.386629  \n",
       "3                  0.00       4.22       1  -1.207789  \n",
       "4                  0.01       0.02       1  -1.573435  "
      ]
     },
     "execution_count": 29,
     "metadata": {},
     "output_type": "execute_result"
    }
   ],
   "source": [
    "servings_cleaned.head()"
   ]
  },
  {
   "cell_type": "markdown",
   "metadata": {
    "id": "ZHRVUR411vL1"
   },
   "source": [
    "\n",
    "Now that we have labeled the outliers as -1, let's try to see which values of protien intake and vitamin B are being identified as outliers by our Elliptic Envelope Algorithm."
   ]
  },
  {
   "cell_type": "code",
   "execution_count": 30,
   "metadata": {
    "colab": {
     "base_uri": "https://localhost:8080/",
     "height": 81
    },
    "id": "GQ2VV75j1JmL",
    "outputId": "6bf3845c-f9c7-4966-df86-09a87cb4e4bc"
   },
   "outputs": [
    {
     "data": {
      "text/html": [
       "<div>\n",
       "<style scoped>\n",
       "    .dataframe tbody tr th:only-of-type {\n",
       "        vertical-align: middle;\n",
       "    }\n",
       "\n",
       "    .dataframe tbody tr th {\n",
       "        vertical-align: top;\n",
       "    }\n",
       "\n",
       "    .dataframe thead th {\n",
       "        text-align: right;\n",
       "    }\n",
       "</style>\n",
       "<table border=\"1\" class=\"dataframe\">\n",
       "  <thead>\n",
       "    <tr style=\"text-align: right;\">\n",
       "      <th></th>\n",
       "      <th>Protein (g)</th>\n",
       "      <th>Vitamin_B</th>\n",
       "    </tr>\n",
       "  </thead>\n",
       "  <tbody>\n",
       "    <tr>\n",
       "      <th>10</th>\n",
       "      <td>77.08</td>\n",
       "      <td>2.45</td>\n",
       "    </tr>\n",
       "  </tbody>\n",
       "</table>\n",
       "</div>"
      ],
      "text/plain": [
       "    Protein (g)  Vitamin_B\n",
       "10        77.08       2.45"
      ]
     },
     "execution_count": 30,
     "metadata": {},
     "output_type": "execute_result"
    }
   ],
   "source": [
    "outlier_df = servings_cleaned[servings_cleaned.get('outlier')=='-1'].get(\n",
    "    ['Protein (g)','Vitamin_B'])\n",
    "outlier_df_cleaned = outlier_df.drop_duplicates()\n",
    "outlier_df_cleaned"
   ]
  },
  {
   "cell_type": "markdown",
   "metadata": {
    "id": "Sfb-KyGvkuoS"
   },
   "source": [
    "By matching the outlier values with their respective food items, we can identify which specific foods are contributing to the outliers in our protein vs. vitamin scatterplot. This information can help us understand which foods may be driving the unusual values and potentially provide insights into why these outliers exist."
   ]
  },
  {
   "cell_type": "code",
   "execution_count": 31,
   "metadata": {
    "colab": {
     "base_uri": "https://localhost:8080/"
    },
    "id": "wDL5SA8okbpZ",
    "outputId": "11a3b215-d86d-4ae2-d416-cbc2958747fe"
   },
   "outputs": [
    {
     "data": {
      "text/plain": [
       "['Whey Protein Powder, 24 Grams of Protein per Scoop']"
      ]
     },
     "execution_count": 31,
     "metadata": {},
     "output_type": "execute_result"
    }
   ],
   "source": [
    "servings_df.loc[outlier_df_cleaned.index]['Food Name'].to_list()"
   ]
  },
  {
   "cell_type": "markdown",
   "metadata": {
    "id": "M60tL_B2lHRY"
   },
   "source": [
    "Our algorithm identifies the scoop of protein powder as an outlier due to its high protein content relative to its low Vitamin B content, which causes it to deviate significantly from the overall pattern of the data in the protein vs. Vitamin B scatterplot."
   ]
  },
  {
   "cell_type": "markdown",
   "metadata": {
    "id": "4z2PI5sj10gN"
   },
   "source": [
    "Sweet, now that we know that there were outliers in our dataset, let's try to visually see which pair of values are being identified as outliers using a plot. Highlighting these outliers in a bright red color will make it super easy for us to identify them in our plot."
   ]
  },
  {
   "cell_type": "code",
   "execution_count": 32,
   "metadata": {
    "colab": {
     "base_uri": "https://localhost:8080/",
     "height": 502
    },
    "id": "GbvM4qZr1x67",
    "outputId": "304eb2e5-7d5f-4b00-d0d8-2e14db010735"
   },
   "outputs": [
    {
     "data": {
      "image/png": "[encoded data removed]",
      "text/plain": [
       "<Figure size 1600x800 with 1 Axes>"
      ]
     },
     "metadata": {},
     "output_type": "display_data"
    }
   ],
   "source": [
    "# Setting Figure Size in Seaborn\n",
    "sns.set(rc={'figure.figsize':(16,8)})\n",
    "\n",
    "# Setting Seaborn plot style\n",
    "sns.set_style(\"darkgrid\")\n",
    "\n",
    "#Plotting our data\n",
    "plot = sns.regplot(x='Protein (g)', y='Vitamin_B', data=servings_cleaned.drop(\n",
    "    outlier_df.index))\n",
    "\n",
    "plt.scatter(outlier_df_cleaned.get('Protein (g)'),outlier_df_cleaned.get('Vitamin_B'))\n",
    "plt.scatter(outlier_df_cleaned.get('Protein (g)'),outlier_df_cleaned.get('Vitamin_B'),\n",
    "            facecolors='red',alpha=.35, s=500)\n",
    "\n",
    "plt.show()"
   ]
  },
  {
   "cell_type": "markdown",
   "metadata": {
    "id": "K2Ph88912bSW"
   },
   "source": [
    "Thus, the points highlighted in red are ones that seem to not be following the general trend of our dataset. Lastly, let's see what the new p-value is after outlier removal!"
   ]
  },
  {
   "cell_type": "code",
   "execution_count": 33,
   "metadata": {
    "colab": {
     "base_uri": "https://localhost:8080/"
    },
    "id": "gzymkCwz2avu",
    "outputId": "b72978b2-ec54-4eb1-b17f-99a3ca4764c8"
   },
   "outputs": [
    {
     "name": "stdout",
     "output_type": "stream",
     "text": [
      "Slope: 0.413\n",
      "Coefficient of determination: 0.734\n",
      "p-value: 1.52e-14\n"
     ]
    }
   ],
   "source": [
    "slope, intercept, r_value, p_value, std_err = stats.linregress(\n",
    "    servings_cleaned.drop(outlier_df.index).get('Protein (g)'),\n",
    "     servings_cleaned.drop(outlier_df.index).get('Vitamin_B'))\n",
    "\n",
    "print(f'Slope: {slope:.3g}')\n",
    "print(f'Coefficient of determination: {r_value**2:.3g}')\n",
    "print(f'p-value: {p_value:.3g}')"
   ]
  },
  {
   "cell_type": "markdown",
   "metadata": {
    "id": "EscMj7Zo2piW"
   },
   "source": [
    "Our new p-value after removing any outliers is 1.52e-14 which is still less than 5% and smaller than our p-value with the outliers included in the dataset. Therefore, after removing the outliers, our result is statistically significant which means that there is enough evidence to conclude that that there is a correlation between Protein content and Vitamin B content in a food item."
   ]
  }
 ],
 "metadata": {
  "colab": {
   "collapsed_sections": [
    "LCiSRYkNtmJU",
    "_KyItag2cSiF",
    "Hz3gqRAMhntc"
   ],
   "provenance": []
  },
  "kernelspec": {
   "display_name": "Python 3 (ipykernel)",
   "language": "python",
   "name": "python3"
  },
  "language_info": {
   "codemirror_mode": {
    "name": "ipython",
    "version": 3
   },
   "file_extension": ".py",
   "mimetype": "text/x-python",
   "name": "python",
   "nbconvert_exporter": "python",
   "pygments_lexer": "ipython3",
   "version": "3.9.13"
  }
 },
 "nbformat": 4,
 "nbformat_minor": 1
}
